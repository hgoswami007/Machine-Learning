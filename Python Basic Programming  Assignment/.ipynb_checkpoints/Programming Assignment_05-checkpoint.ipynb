{
 "cells": [
  {
   "cell_type": "markdown",
   "id": "27ddd6b2",
   "metadata": {},
   "source": [
    "1.Write a Python Program to Find LCM?"
   ]
  },
  {
   "cell_type": "code",
   "execution_count": 8,
   "id": "8740bbdb",
   "metadata": {},
   "outputs": [
    {
     "name": "stdout",
     "output_type": "stream",
     "text": [
      "4\n",
      "5\n",
      "6\n",
      "The LCM of 3 and 6 is 6\n"
     ]
    }
   ],
   "source": [
    "def findLcm(x,y):\n",
    "    if x > y :\n",
    "        greater = x\n",
    "#         print(x)\n",
    "    else:\n",
    "        greater = x\n",
    "#         print(x)\n",
    "    while(True):\n",
    "        if (greater%x == 0) and (greater%y == 0):\n",
    "#             print(greater)\n",
    "            lcm = greater\n",
    "            break\n",
    "        else:\n",
    "            greater+=1\n",
    "            print(greater)\n",
    "    print(f'The LCM of {x} and {y} is {greater}')\n",
    "        \n",
    "\n",
    "findLcm(3,6)\n",
    "findLcm(5,2)\n",
    "findLcm(5,100)"
   ]
  },
  {
   "cell_type": "markdown",
   "id": "bfd1bd10",
   "metadata": {},
   "source": [
    "2.Write a Python Program to Find HCF?"
   ]
  },
  {
   "cell_type": "code",
   "execution_count": 10,
   "id": "7e369ad3",
   "metadata": {},
   "outputs": [
    {
     "name": "stdout",
     "output_type": "stream",
     "text": [
      "The HCF of 6 and 12 is 6\n",
      "The HCF of 2 and 3 is 1\n",
      "The HCF of 10 and 23 is 1\n"
     ]
    }
   ],
   "source": [
    "def findHcf(x,y):\n",
    "    if x > y:\n",
    "        smaller = y\n",
    "    else:\n",
    "        smaller = x\n",
    "        \n",
    "    for i in range(1,smaller+1):\n",
    "        if (x%i == 0) and (y%i ==0):\n",
    "            hcf = i\n",
    "    print(f'The HCF of {x} and {y} is {hcf}')\n",
    "        \n",
    "    \n",
    "    \n",
    "findHcf(6,12)\n",
    "findHcf(2,3)\n",
    "findHcf(10,23)\n",
    "            \n",
    "    \n",
    "    "
   ]
  },
  {
   "cell_type": "markdown",
   "id": "d37d62a4",
   "metadata": {},
   "source": [
    "3.Write a Python Program to Convert Decimal to Binary, Octal and Hexadecimal?"
   ]
  },
  {
   "cell_type": "code",
   "execution_count": 11,
   "id": "aa9ed2ab",
   "metadata": {},
   "outputs": [
    {
     "name": "stdout",
     "output_type": "stream",
     "text": [
      "Enter the number: 12\n",
      "Binary number is : 0b1100\n",
      "Binary number is : 0o14\n",
      "Binary number is : 0xc\n"
     ]
    }
   ],
   "source": [
    "def decimalTo():\n",
    "    num = int(input('Enter the number: '))\n",
    "    print(f'Binary number is : {bin(num)}')\n",
    "    print(f'Binary number is : {oct(num)}')\n",
    "    print(f'Binary number is : {hex(num)}')\n",
    "    \n",
    "\n",
    "decimalTo()"
   ]
  },
  {
   "cell_type": "markdown",
   "id": "b20df97b",
   "metadata": {},
   "source": [
    "4.Write a Python Program To Find ASCII value of a character?"
   ]
  },
  {
   "cell_type": "code",
   "execution_count": 20,
   "id": "2dc24ecb",
   "metadata": {},
   "outputs": [
    {
     "name": "stdout",
     "output_type": "stream",
     "text": [
      "Enter a character: a\n",
      "Ascii value of a is 97\n"
     ]
    }
   ],
   "source": [
    "def chatToAscii():\n",
    "    char = input('Enter a character: ')\n",
    "    if len(char) > 1:\n",
    "        print('Please enter only single character')\n",
    "    else:\n",
    "        print(f'Ascii value of {char} is {ord(char)}')\n",
    "        \n",
    "        \n",
    "chatToAscii()"
   ]
  },
  {
   "cell_type": "markdown",
   "id": "ccea21df",
   "metadata": {},
   "source": [
    "5.Write a Python Program to Make a Simple Calculator with 4 basic mathematical operations?"
   ]
  },
  {
   "cell_type": "code",
   "execution_count": null,
   "id": "ebe89e31",
   "metadata": {},
   "outputs": [
    {
     "name": "stdout",
     "output_type": "stream",
     "text": [
      "Select arithmetic operation:     \n",
      "1.Addition(+)    \n",
      "2.Subtraction(-)    \n",
      "3.Multiplication(*)    \n",
      "4.Division(/)    \n",
      "5.stop(0)\n",
      "\n",
      "Enter arithmetic operator+\n",
      "Enter 1st Number: 10\n",
      "Enter 2nd Number: 10\n",
      "10+10= 20\n"
     ]
    }
   ],
   "source": [
    "import operator as ops\n",
    "ops = {'+':ops.add,'-':ops.sub,'*':ops.mul,'/':ops.truediv}\n",
    "\n",
    "print('Select arithmetic operation: \\\n",
    "    \\n1.Addition(+)\\\n",
    "    \\n2.Subtraction(-)\\\n",
    "    \\n3.Multiplication(*)\\\n",
    "    \\n4.Division(/)\\\n",
    "    \\n5.stop(0)\\n')\n",
    "      \n",
    "while True:\n",
    "      \n",
    "      operator = input('Enter arithmetic operator')\n",
    "      if operator == \"0\":\n",
    "            print('Program stopped successfully')\n",
    "      elif operator not in ['+','-','*','/']:\n",
    "            print('Enter valid operator')\n",
    "      else:\n",
    "        num1 = int(input('Enter 1st Number: '))\n",
    "        num2 = int(input('Enter 2nd Number: '))\n",
    "        print(f'{num1}{operator}{num2}= {ops[operator](num1,num2)}')\n",
    "      \n",
    "      \n",
    "        \n",
    "      \n",
    "      \n",
    "    \n",
    "      \n",
    "      "
   ]
  },
  {
   "cell_type": "code",
   "execution_count": null,
   "id": "57126c65",
   "metadata": {},
   "outputs": [],
   "source": []
  }
 ],
 "metadata": {
  "kernelspec": {
   "display_name": "Python 3 (ipykernel)",
   "language": "python",
   "name": "python3"
  },
  "language_info": {
   "codemirror_mode": {
    "name": "ipython",
    "version": 3
   },
   "file_extension": ".py",
   "mimetype": "text/x-python",
   "name": "python",
   "nbconvert_exporter": "python",
   "pygments_lexer": "ipython3",
   "version": "3.10.9"
  }
 },
 "nbformat": 4,
 "nbformat_minor": 5
}
