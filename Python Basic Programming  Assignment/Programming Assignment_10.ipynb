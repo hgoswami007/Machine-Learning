{
 "cells": [
  {
   "cell_type": "markdown",
   "id": "6df02589",
   "metadata": {},
   "source": [
    "1.Write a Python program to find sum of elements in list?"
   ]
  },
  {
   "cell_type": "code",
   "execution_count": 6,
   "id": "0f1298d4",
   "metadata": {},
   "outputs": [
    {
     "name": "stdout",
     "output_type": "stream",
     "text": [
      "Enter the List of number : 5\n",
      "Enter the element: 1\n",
      "Enter the element: 2\n",
      "Enter the element: 3\n",
      "Enter the element: 4\n",
      "Enter the element: 5\n",
      "The total sum of list is 15\n"
     ]
    }
   ],
   "source": [
    "def sumOfElement():\n",
    "    number = int(input('Enter the No of Entries in a List : '))\n",
    "    listOfNumber = []\n",
    "    for itr in range(number):\n",
    "        listOfNumber.append(int(input('Enter the element: ')))\n",
    "    print(f'The total sum of list is {sum(listOfNumber)}')\n",
    "    \n",
    "sumOfElement()"
   ]
  },
  {
   "cell_type": "markdown",
   "id": "e99687d5",
   "metadata": {},
   "source": [
    "2.Write a Python program to  Multiply all numbers in the list?"
   ]
  },
  {
   "cell_type": "code",
   "execution_count": 9,
   "id": "2eac5fcc",
   "metadata": {},
   "outputs": [
    {
     "name": "stdout",
     "output_type": "stream",
     "text": [
      "Enter the No of Entries in a List : 5\n",
      "Enter the element: 1\n",
      "Enter the element: 2\n",
      "Enter the element: 3\n",
      "Enter the element: 4\n",
      "Enter the element: 5\n",
      "The total sum of list is : 120\n"
     ]
    }
   ],
   "source": [
    "def mulOfElement():\n",
    "    number = int(input('Enter the No of Entries in a List : '))\n",
    "    \n",
    "    mul = 1\n",
    "    for itr in range(number):\n",
    "        element = int(input('Enter the element: '))\n",
    "        mul = mul*element\n",
    "    \n",
    "    print(f'The total sum of list is : {mul}')\n",
    "    \n",
    "mulOfElement()"
   ]
  },
  {
   "cell_type": "markdown",
   "id": "f2434228",
   "metadata": {},
   "source": [
    "3.Write a Python program to find smallest number in a list?"
   ]
  },
  {
   "cell_type": "code",
   "execution_count": 21,
   "id": "56691187",
   "metadata": {},
   "outputs": [
    {
     "name": "stdout",
     "output_type": "stream",
     "text": [
      "Enter the number of enrties in list: 5\n",
      "Enter the list element: 87\n",
      "Enter the list element: 98\n",
      "Enter the list element: 56\n",
      "Enter the list element: 45\n",
      "Enter the list element: 34\n",
      "Smallest number in a [87, 98, 56, 45, 34] is 34\n"
     ]
    }
   ],
   "source": [
    "def findSmallerNumber():\n",
    "    number = int(input('Enter the number of enrties in list: '))\n",
    "    listOfNumber = []\n",
    "    for i in range(number):\n",
    "        ele = int(input('Enter the list element: '))\n",
    "        listOfNumber.append(ele)\n",
    "    print(f'Smallest number in a list of {listOfNumber} is {sorted(listOfNumber)[0]}')\n",
    "    \n",
    "findSmallerNumber()\n",
    "        "
   ]
  },
  {
   "cell_type": "markdown",
   "id": "a3d9bd56",
   "metadata": {},
   "source": [
    "4.Write a Python program to find largest number in a list?"
   ]
  },
  {
   "cell_type": "code",
   "execution_count": 22,
   "id": "38bca30d",
   "metadata": {},
   "outputs": [
    {
     "name": "stdout",
     "output_type": "stream",
     "text": [
      "Enter the number of enrties in list: 5\n",
      "Enter the list element: 87\n",
      "Enter the list element: 98\n",
      "Enter the list element: 56\n",
      "Enter the list element: 45\n",
      "Enter the list element: 34\n",
      "Smallest number in a list of [87, 98, 56, 45, 34] is 98\n"
     ]
    }
   ],
   "source": [
    "def findLargestNumber():\n",
    "    number = int(input('Enter the number of enrties in list: '))\n",
    "    listOfNumber = []\n",
    "    for i in range(number):\n",
    "        ele = int(input('Enter the list element: '))\n",
    "        listOfNumber.append(ele)\n",
    "    print(f'Smallest number in a list of {listOfNumber} is {sorted(listOfNumber,reverse=True)[0]}')\n",
    "    \n",
    "findLargestNumber()"
   ]
  },
  {
   "cell_type": "markdown",
   "id": "e196f9e4",
   "metadata": {},
   "source": [
    "5.Write a Python program to find second largest number in a list?"
   ]
  },
  {
   "cell_type": "code",
   "execution_count": 23,
   "id": "fda0a698",
   "metadata": {},
   "outputs": [
    {
     "name": "stdout",
     "output_type": "stream",
     "text": [
      "Enter the number of enrties in list: 5\n",
      "Enter the list element: 87\n",
      "Enter the list element: 98\n",
      "Enter the list element: 56\n",
      "Enter the list element: 45\n",
      "Enter the list element: 34\n",
      "Smallest number in a list of [87, 98, 56, 45, 34] is 87\n"
     ]
    }
   ],
   "source": [
    "def findSecondLargestNumber():\n",
    "    number = int(input('Enter the number of enrties in list: '))\n",
    "    listOfNumber = []\n",
    "    for i in range(number):\n",
    "        ele = int(input('Enter the list element: '))\n",
    "        listOfNumber.append(ele)\n",
    "    print(f'Smallest number in a list of {listOfNumber} is {sorted(listOfNumber,reverse=True)[1]}')\n",
    "    \n",
    "findSecondLargestNumber()"
   ]
  },
  {
   "cell_type": "markdown",
   "id": "c4baeef6",
   "metadata": {},
   "source": [
    "6.Write a Python program to find N largest elements from a list?"
   ]
  },
  {
   "cell_type": "code",
   "execution_count": 26,
   "id": "b9c1a54a",
   "metadata": {},
   "outputs": [
    {
     "name": "stdout",
     "output_type": "stream",
     "text": [
      "Enter the number of enrties in list: 5\n",
      "Enter the list element: 87\n",
      "Enter the list element: 98\n",
      "Enter the list element: 56\n",
      "Enter the list element: 45\n",
      "Enter the list element: 34\n",
      "Smallest number in a list of [87, 98, 56, 45, 34] is [98, 87, 56]\n"
     ]
    }
   ],
   "source": [
    "def findNLargestNumber(n):\n",
    "    number = int(input('Enter the number of enrties in list: '))\n",
    "    listOfNumber = []\n",
    "    for i in range(number):\n",
    "        ele = int(input('Enter the list element: '))\n",
    "        listOfNumber.append(ele)\n",
    "    print(f'Smallest number in a list of {listOfNumber} is {sorted(listOfNumber,reverse=True)[0:n]}')\n",
    "    \n",
    "findNLargestNumber(3)"
   ]
  },
  {
   "cell_type": "markdown",
   "id": "9ffda256",
   "metadata": {},
   "source": [
    "7.Write a Python program to print even numbers in a list"
   ]
  },
  {
   "cell_type": "code",
   "execution_count": 27,
   "id": "00f73f85",
   "metadata": {},
   "outputs": [
    {
     "name": "stdout",
     "output_type": "stream",
     "text": [
      "Enter the number of entries in list: 5\n",
      "Enter the element of list: 1\n",
      "Enter the element of list: 2\n",
      "Enter the element of list: 3\n",
      "Enter the element of list: 4\n",
      "Enter the element of list: 5\n",
      "List  of even number is [2, 4]\n"
     ]
    }
   ],
   "source": [
    "def findEvenNumber():\n",
    "    number = int(input('Enter the number of entries in list: '))\n",
    "    evenNoList=[]\n",
    "    for i in range(number):\n",
    "        ele = int(input('Enter the element of list: '))\n",
    "        if ele % 2 == 0:\n",
    "            evenNoList.append(ele)\n",
    "        else:\n",
    "            pass\n",
    "    print(f'List  of even number is {evenNoList}')\n",
    "   \n",
    "findEvenNumber()\n",
    "    "
   ]
  },
  {
   "cell_type": "markdown",
   "id": "b2fb7914",
   "metadata": {},
   "source": [
    "8.Write a Python program to print odd numbers in a List?"
   ]
  },
  {
   "cell_type": "code",
   "execution_count": 32,
   "id": "f9b6c29e",
   "metadata": {},
   "outputs": [
    {
     "name": "stdout",
     "output_type": "stream",
     "text": [
      "Enter the number of entries in list: 5\n",
      "Enter the element of list: 1\n",
      "Enter the element of list: 2\n",
      "Enter the element of list: 3\n",
      "Enter the element of list: 4\n",
      "Enter the element of list: 5\n",
      "List  of even number is [1, 3, 5]\n"
     ]
    }
   ],
   "source": [
    "def findOddNumber():\n",
    "    number = int(input('Enter the number of entries in list: '))\n",
    "    evenNoList=[]\n",
    "    for i in range(number):\n",
    "        ele = int(input('Enter the element of list: '))\n",
    "        if ele % 2 != 0:\n",
    "            evenNoList.append(ele)\n",
    "        else:\n",
    "            pass\n",
    "    print(f'List  of even number is {evenNoList}')\n",
    " \n",
    "\n",
    "findOddNumber()"
   ]
  },
  {
   "cell_type": "markdown",
   "id": "020a7041",
   "metadata": {},
   "source": [
    "Remove empty list from list"
   ]
  },
  {
   "cell_type": "markdown",
   "id": "0e716e45",
   "metadata": {},
   "source": [
    "9.Write a Python program to Remove empty List from List?"
   ]
  },
  {
   "cell_type": "code",
   "execution_count": 5,
   "id": "2e5bdd42",
   "metadata": {
    "scrolled": false
   },
   "outputs": [
    {
     "name": "stdout",
     "output_type": "stream",
     "text": [
      "Enter the List: [1,2,[],4,[],[]]\n",
      "The list after removing [] is [1, 2, 4]\n"
     ]
    }
   ],
   "source": [
    "def removeEmptyList():\n",
    "    number = eval(input('Enter the List: '))\n",
    "    newlist = []\n",
    "    if [] in number:\n",
    "        for i in number:\n",
    "            if i != []:\n",
    "                newlist.append(i)\n",
    "        print(f'The list after removing [] is {newlist}')\n",
    "    else:\n",
    "        print(f'There is no [] List in the list {number}')\n",
    "    \n",
    "removeEmptyList()"
   ]
  },
  {
   "cell_type": "markdown",
   "id": "f3a14e83",
   "metadata": {},
   "source": [
    "10.Write a Python program to Cloning or Copying a list?"
   ]
  },
  {
   "cell_type": "code",
   "execution_count": 6,
   "id": "0aa617e7",
   "metadata": {},
   "outputs": [
    {
     "name": "stdout",
     "output_type": "stream",
     "text": [
      "Enter a list[1,2,3,4,5]\n",
      "[1, 2, 3, 4, 5] 2166187054720\n",
      "[1, 2, 3, 4, 5] 2166149101568\n"
     ]
    }
   ],
   "source": [
    "def cloneList():\n",
    "    number = eval(input('Enter a list'))\n",
    "    print(number,id(number))\n",
    "    cloned_list = number.copy()\n",
    "    print(cloned_list,id(cloned_list))\n",
    "    \n",
    "cloneList()"
   ]
  },
  {
   "cell_type": "markdown",
   "id": "c660f740",
   "metadata": {},
   "source": [
    "11.Write a Python program to Count occurrences of an element in a list?"
   ]
  },
  {
   "cell_type": "code",
   "execution_count": 13,
   "id": "604c0b3d",
   "metadata": {},
   "outputs": [
    {
     "name": "stdout",
     "output_type": "stream",
     "text": [
      "Enter the list : [1,2,3,2,3,1,4,5,6,5,1,1,1,1]\n",
      "Enter element to find : 1\n",
      "There are 6 of occurences of 1 in [1, 2, 3, 2, 3, 1, 4, 5, 6, 5, 1, 1, 1, 1]\n"
     ]
    }
   ],
   "source": [
    "def checkOccurence():\n",
    "    list_in = eval(input('Enter the list : '))\n",
    "    num_in = eval(input('Enter element to find : '))\n",
    "    val = list_in.count(num_in)\n",
    "    print(f'There are {val} of occurences of {num_in} in {list_in}')\n",
    "    \n",
    "checkOccurence()"
   ]
  },
  {
   "cell_type": "code",
   "execution_count": null,
   "id": "6b373fe0",
   "metadata": {},
   "outputs": [],
   "source": []
  }
 ],
 "metadata": {
  "kernelspec": {
   "display_name": "Python 3 (ipykernel)",
   "language": "python",
   "name": "python3"
  },
  "language_info": {
   "codemirror_mode": {
    "name": "ipython",
    "version": 3
   },
   "file_extension": ".py",
   "mimetype": "text/x-python",
   "name": "python",
   "nbconvert_exporter": "python",
   "pygments_lexer": "ipython3",
   "version": "3.9.7"
  }
 },
 "nbformat": 4,
 "nbformat_minor": 5
}
