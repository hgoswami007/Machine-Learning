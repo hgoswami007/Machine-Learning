{
 "cells": [
  {
   "cell_type": "code",
   "execution_count": null,
   "id": "188fcd16",
   "metadata": {},
   "outputs": [],
   "source": []
  },
  {
   "cell_type": "code",
   "execution_count": 1,
   "id": "da867d0c",
   "metadata": {},
   "outputs": [
    {
     "name": "stdout",
     "output_type": "stream",
     "text": [
      "Hello Python\n"
     ]
    }
   ],
   "source": [
    "print('Hello Python')"
   ]
  },
  {
   "cell_type": "code",
   "execution_count": null,
   "id": "e3fdd702",
   "metadata": {},
   "outputs": [],
   "source": []
  },
  {
   "cell_type": "code",
   "execution_count": 2,
   "id": "43d0f2bc",
   "metadata": {},
   "outputs": [],
   "source": [
    "import operator"
   ]
  },
  {
   "cell_type": "code",
   "execution_count": 3,
   "id": "c6e8632b",
   "metadata": {},
   "outputs": [
    {
     "name": "stdout",
     "output_type": "stream",
     "text": [
      "Select a Arithmetic Operation: \n",
      "1.Addition(+)\n",
      "2.Substraction(-)\n",
      "3.Multiplication(*)\n",
      "4.Division(/)\n",
      "5.Stop(0)\n",
      "\n",
      "Enter a arithmetic operation -> \n",
      "Please enter valid operator\n",
      "Enter a arithmetic operation -> 0\n",
      "Program Stopped successfully\n"
     ]
    }
   ],
   "source": [
    "ops = {\"+\": operator.add, \"-\": operator.sub, \"*\": operator.mul, \"/\": operator.truediv}\n",
    "print('Select a Arithmetic Operation: \\\n",
    "\\n1.Addition(+)\\\n",
    "\\n2.Substraction(-)\\\n",
    "\\n3.Multiplication(*)\\\n",
    "\\n4.Division(/)\\\n",
    "\\n5.Stop(0)\\n')\n",
    "\n",
    "while True:\n",
    "    operator = input('Enter a arithmetic operation -> ')\n",
    "    if operator == '0':\n",
    "        print('Program Stopped successfully')\n",
    "        break\n",
    "    elif operator not in ['+','-','*','/']:\n",
    "        print('Please enter valid operator')\n",
    "    else:\n",
    "        num_1 = int(input('\\nEnter 1st Number: '))\n",
    "        num_2 = int(input('\\nEnter 2nd Number: '))\n",
    "        print('{}{}{}={}\\n'.format(num_1,operator,num_2,ops[operator](num_1,num_2)))"
   ]
  },
  {
   "cell_type": "code",
   "execution_count": null,
   "id": "86844143",
   "metadata": {},
   "outputs": [],
   "source": []
  },
  {
   "cell_type": "code",
   "execution_count": 6,
   "id": "3ab03417",
   "metadata": {},
   "outputs": [
    {
     "name": "stdout",
     "output_type": "stream",
     "text": [
      "Enter height of triangle: 200\n",
      "Enter height of base: 30\n",
      "\n",
      "Area of triangle 3000.0\n"
     ]
    }
   ],
   "source": [
    "height = int(input('Enter height of triangle: '))\n",
    "base = int(input('Enter height of base: '))\n",
    "\n",
    "def areaOfTriangle(height,base):\n",
    "    print('\\nArea of triangle', 0.5*height*base)\n",
    "    \n",
    "areaOfTriangle(height,base)"
   ]
  },
  {
   "cell_type": "code",
   "execution_count": null,
   "id": "68b6e968",
   "metadata": {},
   "outputs": [],
   "source": []
  },
  {
   "cell_type": "code",
   "execution_count": 11,
   "id": "ad07607f",
   "metadata": {},
   "outputs": [
    {
     "name": "stdout",
     "output_type": "stream",
     "text": [
      "Enter First Number: 10\n",
      "Enter Second Number: 20\n",
      "Before swappingg ->  10 20\n",
      "After swapping ->  20 10\n"
     ]
    }
   ],
   "source": [
    "num_1 = int(input(\"Enter First Number: \"))\n",
    "num_2 = int(input(\"Enter Second Number: \"))\n",
    "\n",
    "def swapNumber(num1,num2):\n",
    "    temp = num1\n",
    "    num1 = num2\n",
    "    num2 = temp\n",
    "    return num1,num2\n",
    "\n",
    "print('Before swappingg -> ', num_1, num_2)\n",
    "num_1, num_2 = swapNumber(num_1,num_2)\n",
    "print('After swapping -> ',num_1,num_2)"
   ]
  },
  {
   "cell_type": "code",
   "execution_count": null,
   "id": "a5b72f59",
   "metadata": {},
   "outputs": [],
   "source": []
  },
  {
   "cell_type": "code",
   "execution_count": 16,
   "id": "1c4e4ebc",
   "metadata": {},
   "outputs": [
    {
     "name": "stdout",
     "output_type": "stream",
     "text": [
      "Random Number ->  375\n",
      "Random Number ->  89\n"
     ]
    }
   ],
   "source": [
    "from random import randint\n",
    "def genRandomNumber(start=0,end=1000):\n",
    "    print('Random Number -> ',randint(start,end))\n",
    "    \n",
    "# Generating random numbers without arguments\n",
    "genRandomNumber()\n",
    "\n",
    "# Generating random number with arguments\n",
    "genRandomNumber(0,100)\n",
    "    "
   ]
  },
  {
   "cell_type": "code",
   "execution_count": null,
   "id": "0ac762e5",
   "metadata": {},
   "outputs": [],
   "source": []
  }
 ],
 "metadata": {
  "kernelspec": {
   "display_name": "Python 3 (ipykernel)",
   "language": "python",
   "name": "python3"
  },
  "language_info": {
   "codemirror_mode": {
    "name": "ipython",
    "version": 3
   },
   "file_extension": ".py",
   "mimetype": "text/x-python",
   "name": "python",
   "nbconvert_exporter": "python",
   "pygments_lexer": "ipython3",
   "version": "3.9.7"
  }
 },
 "nbformat": 4,
 "nbformat_minor": 5
}
