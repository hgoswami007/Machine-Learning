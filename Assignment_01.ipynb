{
 "cells": [
  {
   "cell_type": "markdown",
   "id": "3f6e0c95",
   "metadata": {},
   "source": [
    "1. In the below elements which of them are values or an expression? **eg:-** values can be integer or string and expressions will be mathematical operators.\n",
    "`*`,`'hello'`, `-87.8`,`-`,`/`,`+`,`6`\n",
    "**Ans:**There are 4 operators and 3 strings.\n",
    "\n",
    "**Expression:** `*`,`-`,`/`,`+`\n",
    "\n",
    "**Values:** `'hello'`, `87.8`, `6`\n",
    "\n",
    "\n",
    "\n"
   ]
  },
  {
   "cell_type": "markdown",
   "id": "06440963",
   "metadata": {},
   "source": [
    "2. What is the difference between string and variable?\n",
    "\n",
    "A variable is use to store a information and a string is type of information you would store in variable, String is a group of character or single character usually enclosed in Double quoted`\" \"` or single quotes `' '`."
   ]
  },
  {
   "cell_type": "markdown",
   "id": "afde7d8a",
   "metadata": {},
   "source": [
    "3. Describe three different Data Types ?\n",
    "**ANS:**Three fundamental Data types in python are : `int`, `flot`, `complex`\n",
    "1. int data type : We can use int data type to represent whole number or integral value.\n",
    "2. Float data type : We can use float data type to represent floating point values(decimal numbers).\n",
    "3. Complex data type : We can use complex data type to represent complex class. It is specifid as (real part) + (imaginary part)j.\n"
   ]
  },
  {
   "cell_type": "markdown",
   "id": "350cfb84",
   "metadata": {},
   "source": [
    " 4. What is an expression made up of? What do all expressions do?\n",
    " \n",
    "**ANS:** An expression is combination of values, variables, operators and calls to functions.Expression needs to be evaluated.If we ask Python to print expression, the interpreter evaluates expression and display the result. "
   ]
  },
  {
   "cell_type": "markdown",
   "id": "a7ca6820",
   "metadata": {},
   "source": [
    "5.This assignment statements, like spam = 10. What is the difference between an expression and a statement?\n",
    "\n",
    "**ANS:** The expression is combination of values, variables, operators when we type a expression at promt, the interpreter evaluate it.which means that it finds the value of expression.\n",
    "\n",
    "**eg:** 4/2+20\n",
    "\n",
    "A statement is unit of code that has an effect, like creating a variable or displaying a value.When we type a statement,the interpreter executes it,which means that it does whatever statement says.In general statement don't have value.\n",
    "\n",
    "**eg:** Variable declaration and assigment are statement because they do not have return value."
   ]
  },
  {
   "cell_type": "markdown",
   "id": "7c797b0d",
   "metadata": {},
   "source": [
    "6.After running the following code, what does the variable bacon contain?\n",
    "`bacon = 22`  \n",
    "`bacon + 1`\n",
    "\n",
    "**ANS:** The variable bacon set to `22`.the expression `bacon + 1` does not reassign the value in bacon (that would be case of expreesion is `bacon= bacon +1`)"
   ]
  },
  {
   "cell_type": "markdown",
   "id": "c9778994",
   "metadata": {},
   "source": [
    "7.What should the values of the following two terms be?  \n",
    "`'spam'+'spamspam'`  \n",
    "`'spam'*3`\n",
    "\n",
    "**ANS:** Both expression evaluating the string, First expression follow `String Concatentation` and second expression follow `String Multiplication`"
   ]
  },
  {
   "cell_type": "code",
   "execution_count": 2,
   "id": "e2089c77",
   "metadata": {},
   "outputs": [
    {
     "name": "stdout",
     "output_type": "stream",
     "text": [
      "spamspamspam\n",
      "spamspamspam\n"
     ]
    }
   ],
   "source": [
    "print('spam'+'spamspam') #String Concatentation\n",
    "print('spam'*3) #String Multiplication"
   ]
  },
  {
   "cell_type": "markdown",
   "id": "ce0ae024",
   "metadata": {},
   "source": [
    "8. Why is eggs a valid variable name while 100 is invalid?\n",
    "**ANS:** As per the Python naming rule, variable name cannot begin with a number. The Python rules for naming variable are :-\n",
    "\n",
    "    1. Variable name must be start with a letter or underscore with character.\n",
    "    2. Variable name can not start with number.\n",
    "    3. Variable name can contain only alpha-numeric character and underscore(A-z, 0-9, & _ ).\n",
    "    4. Variable name are case-sensitive (name , `INEURON` and `ineuron` are three different variable).\n",
    "    5. The reserve words(keywords) can not be used for naming variable."
   ]
  },
  {
   "cell_type": "markdown",
   "id": "0672501b",
   "metadata": {},
   "source": [
    "9.What three functions can be used to get the integer,floating-point number,or string version of a value?\n",
    "\n",
    "**ANS:** The `int()`,`float()` and `str()`  function evaluate to the interger, floating-point and string version of the value pass to them."
   ]
  },
  {
   "cell_type": "markdown",
   "id": "bd3945bd",
   "metadata": {},
   "source": [
    "10.Why does this expression cause an error? how can you fix it?  \n",
    "`'I have eaten ' + 99 + 'burritos.'`\n",
    "\n",
    "**ANS:** This cause error because of 99 is not string. 99 must be a typecasted to string to fix this error. the correct way is:\n",
    "\n",
    "input : `'I have eaten'+ str(99) + 'burritos.'`\n",
    "\n",
    "output: `'I have eaten 99 burritos.'`"
   ]
  },
  {
   "cell_type": "code",
   "execution_count": null,
   "id": "5fd15ecf",
   "metadata": {},
   "outputs": [],
   "source": []
  }
 ],
 "metadata": {
  "kernelspec": {
   "display_name": "Python 3 (ipykernel)",
   "language": "python",
   "name": "python3"
  },
  "language_info": {
   "codemirror_mode": {
    "name": "ipython",
    "version": 3
   },
   "file_extension": ".py",
   "mimetype": "text/x-python",
   "name": "python",
   "nbconvert_exporter": "python",
   "pygments_lexer": "ipython3",
   "version": "3.9.7"
  }
 },
 "nbformat": 4,
 "nbformat_minor": 5
}
