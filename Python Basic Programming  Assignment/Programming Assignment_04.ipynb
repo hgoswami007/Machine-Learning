{
 "cells": [
  {
   "cell_type": "markdown",
   "id": "a98595f1",
   "metadata": {},
   "source": [
    "1.Write a Python Program to Find the Factorial of a Number?"
   ]
  },
  {
   "cell_type": "code",
   "execution_count": 1,
   "id": "671deaa2",
   "metadata": {},
   "outputs": [
    {
     "name": "stdout",
     "output_type": "stream",
     "text": [
      "Enter the Number : 5\n",
      "120\n"
     ]
    }
   ],
   "source": [
    "def factorial(num):\n",
    "    if num < 1:\n",
    "        return 1\n",
    "    else:\n",
    "        return num*factorial(num-1)\n",
    "num = int(input('Enter the Number : '))\n",
    "value = factorial(num)\n",
    "print(value)"
   ]
  },
  {
   "cell_type": "markdown",
   "id": "ef8faf91",
   "metadata": {},
   "source": [
    "2.Write a Python Program to Display the multiplication Table?"
   ]
  },
  {
   "cell_type": "code",
   "execution_count": 2,
   "id": "15ba9ea0",
   "metadata": {},
   "outputs": [
    {
     "name": "stdout",
     "output_type": "stream",
     "text": [
      "Enter the Number : 10\n",
      "Enter the Number : 10\n",
      "10 * 1 = 10\n",
      "10 * 2 = 20\n",
      "10 * 3 = 30\n",
      "10 * 4 = 40\n",
      "10 * 5 = 50\n",
      "10 * 6 = 60\n",
      "10 * 7 = 70\n",
      "10 * 8 = 80\n",
      "10 * 9 = 90\n",
      "10 * 10 = 100\n"
     ]
    }
   ],
   "source": [
    "def multiplicationTable(num,entries):\n",
    "    for i in range(1,entries+1):\n",
    "        print('{} * {} = {}'.format(num,i,int(num*i)))\n",
    "        \n",
    "num = int(input('Enter the Number : '))\n",
    "entries = int(input('Enter the Number : '))\n",
    "multiplicationTable(num,entries)\n",
    "        \n",
    "        \n",
    "    \n",
    "    \n",
    "    "
   ]
  },
  {
   "cell_type": "markdown",
   "id": "7b7a4fe6",
   "metadata": {},
   "source": [
    "3.Write a Python Program to Print the Fibonacci sequence?"
   ]
  },
  {
   "cell_type": "code",
   "execution_count": 3,
   "id": "bcba3314",
   "metadata": {},
   "outputs": [
    {
     "name": "stdout",
     "output_type": "stream",
     "text": [
      "fibonacci series are [0, 1, 1]\n"
     ]
    }
   ],
   "source": [
    "def fibonacci(num):\n",
    "    result = [0,1]\n",
    "    if num < 0:\n",
    "        print('fibonacci numbers are not available')\n",
    "    elif num <= 2:\n",
    "        print(result)\n",
    "    else:\n",
    "        for i in range(num):\n",
    "            if i >=2:\n",
    "                result.append(result[i-1]+result[i-2])\n",
    "        print(f'fibonacci series are {result}')\n",
    "        \n",
    "        \n",
    "        \n",
    "fibonacci(3)"
   ]
  },
  {
   "cell_type": "markdown",
   "id": "b31ab565",
   "metadata": {},
   "source": [
    "4.Write a Python Program to Check Armstrong Number?"
   ]
  },
  {
   "cell_type": "code",
   "execution_count": 4,
   "id": "a43cf027",
   "metadata": {},
   "outputs": [
    {
     "name": "stdout",
     "output_type": "stream",
     "text": [
      "Enter the Number : 100\n",
      "100 is not armsrtong number\n"
     ]
    }
   ],
   "source": [
    "def armNumber(num):\n",
    "    number = str(num)\n",
    "    result = 0\n",
    "    for i in number:\n",
    "        i = int(i)\n",
    "        result += (i*i*i)\n",
    "    if result == num:\n",
    "        print(f'{num} is armsrtong number')\n",
    "    else:\n",
    "        print(f'{num} is not armsrtong number')\n",
    "            \n",
    "num = int(input('Enter the Number : '))\n",
    "armNumber(num)\n",
    "            "
   ]
  },
  {
   "cell_type": "markdown",
   "id": "00b8799a",
   "metadata": {},
   "source": [
    "ArmStrong number in interval"
   ]
  },
  {
   "cell_type": "markdown",
   "id": "f64bca4f",
   "metadata": {},
   "source": [
    "5.Write a Python Program to Find Armstrong Number in an Interval?"
   ]
  },
  {
   "cell_type": "code",
   "execution_count": 18,
   "id": "8303d693",
   "metadata": {},
   "outputs": [
    {
     "name": "stdout",
     "output_type": "stream",
     "text": [
      "Enter the Number : 1\n",
      "Enter the Number : 10000\n"
     ]
    },
    {
     "data": {
      "text/plain": [
       "[1, 153, 370, 371, 407]"
      ]
     },
     "execution_count": 18,
     "metadata": {},
     "output_type": "execute_result"
    }
   ],
   "source": [
    "\n",
    "def armNumber(num):\n",
    "    number = str(num)\n",
    "    result = 0\n",
    "    for i in number:\n",
    "        i = int(i)\n",
    "        result += (i*i*i)\n",
    "    if result == num:\n",
    "        return True\n",
    "\n",
    "listofNumber = []             \n",
    "def armNumberinterval(fromNumber,toNumber):\n",
    "    for i in range(fromNumber,toNumber):\n",
    "        if armNumber(i) == True:\n",
    "            listofNumber.append(i)\n",
    "    return listofNumber\n",
    "\n",
    "fromNumber = int(input('Enter the Number : '))\n",
    "toNumber = int(input('Enter the Number : '))\n",
    "armNumberinterval(fromNumber,toNumber)"
   ]
  },
  {
   "cell_type": "markdown",
   "id": "e9323192",
   "metadata": {},
   "source": [
    "sum of natural numbers"
   ]
  },
  {
   "cell_type": "markdown",
   "id": "23b2f6dc",
   "metadata": {},
   "source": [
    "6.Write a Python Program to Find the Sum of Natural Numbers?"
   ]
  },
  {
   "cell_type": "code",
   "execution_count": 20,
   "id": "8d4b4b78",
   "metadata": {},
   "outputs": [
    {
     "data": {
      "text/plain": [
       "'Sum of number is : 5050'"
      ]
     },
     "execution_count": 20,
     "metadata": {},
     "output_type": "execute_result"
    }
   ],
   "source": [
    "def sumofNaturalNumber(num):\n",
    "    sum = 0\n",
    "    for i in range(1,num+1):\n",
    "        sum += i\n",
    "    return \"Sum of number is : {}\".format(sum)\n",
    "\n",
    "sumofNaturalNumber(100)\n",
    "        \n",
    "    "
   ]
  },
  {
   "cell_type": "code",
   "execution_count": null,
   "id": "aa65fba4",
   "metadata": {},
   "outputs": [],
   "source": []
  }
 ],
 "metadata": {
  "kernelspec": {
   "display_name": "Python 3 (ipykernel)",
   "language": "python",
   "name": "python3"
  },
  "language_info": {
   "codemirror_mode": {
    "name": "ipython",
    "version": 3
   },
   "file_extension": ".py",
   "mimetype": "text/x-python",
   "name": "python",
   "nbconvert_exporter": "python",
   "pygments_lexer": "ipython3",
   "version": "3.9.7"
  }
 },
 "nbformat": 4,
 "nbformat_minor": 5
}
