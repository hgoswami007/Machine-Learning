{
 "cells": [
  {
   "cell_type": "markdown",
   "id": "167e0a7d",
   "metadata": {},
   "source": [
    "### 1. Why are functions advantageous to have in your programs?"
   ]
  },
  {
   "cell_type": "markdown",
   "id": "47f2b423",
   "metadata": {},
   "source": [
    "Funtions reduce the duplicate of code. It makes program shorter and easier to read, The main advantage of function is reusability."
   ]
  },
  {
   "cell_type": "markdown",
   "id": "d33ff346",
   "metadata": {},
   "source": [
    "### 2. When does the code in a function run: when it's specified or when it's called?"
   ]
  },
  {
   "cell_type": "markdown",
   "id": "9309fc3a",
   "metadata": {},
   "source": [
    "The code in function it execute when the function is called not when the function is specified."
   ]
  },
  {
   "cell_type": "markdown",
   "id": "0bb56fa5",
   "metadata": {},
   "source": [
    "### 3. What statement creates a function?"
   ]
  },
  {
   "cell_type": "markdown",
   "id": "f43fdefe",
   "metadata": {},
   "source": [
    "The `def` statement define a function.\n",
    "\n",
    "`def` function_name(`parametetr`) : `\"\"\"doc string\"\"\"`...`Function body`...`return value`"
   ]
  },
  {
   "cell_type": "markdown",
   "id": "9a6026a7",
   "metadata": {},
   "source": [
    "### 4. What is the difference between a function and a function call?"
   ]
  },
  {
   "cell_type": "markdown",
   "id": "56fd31e9",
   "metadata": {},
   "source": [
    "A Function is procedure to achieve a particular result. When function call is using this function to achieve that task. Using a function to do any particular task at any point of time using function call. "
   ]
  },
  {
   "cell_type": "markdown",
   "id": "1a2b36b2",
   "metadata": {},
   "source": [
    "### 5.How many global scopes are there in a Python program? How many local scopes?"
   ]
  },
  {
   "cell_type": "markdown",
   "id": "580abaf9",
   "metadata": {},
   "source": [
    "There are one global scope and local scope is created whenever function is called."
   ]
  },
  {
   "cell_type": "markdown",
   "id": "ef43a653",
   "metadata": {},
   "source": [
    "### 6. What happens to variables in a local scope when the function call returns?"
   ]
  },
  {
   "cell_type": "markdown",
   "id": "63502689",
   "metadata": {},
   "source": [
    "When the variable return, the local variable are destroyed, and all the variable are in forgotten."
   ]
  },
  {
   "cell_type": "markdown",
   "id": "48860cd5",
   "metadata": {},
   "source": [
    "### 7. What is the concept of a return value? Is it possible to have a return value in an expression?"
   ]
  },
  {
   "cell_type": "markdown",
   "id": "d03a8c1c",
   "metadata": {},
   "source": [
    "The concept of return value is that the value of function call.Like any return value can be used as part of expression."
   ]
  },
  {
   "cell_type": "markdown",
   "id": "6a27e3cb",
   "metadata": {},
   "source": [
    "### 8. If a function does not have a return statement, what is the return value of a call to that function?"
   ]
  },
  {
   "cell_type": "markdown",
   "id": "aa0f727d",
   "metadata": {},
   "source": [
    "If a function does not have a return value then it will return `None`"
   ]
  },
  {
   "cell_type": "markdown",
   "id": "6e2c38ab",
   "metadata": {},
   "source": [
    "### 9. How do you make a function variable refer to the global variable?"
   ]
  },
  {
   "cell_type": "markdown",
   "id": "6d649711",
   "metadata": {},
   "source": [
    "A global statement will force a varible into a function to refer to global variable. we can use `global` keyword while declaring a varible."
   ]
  },
  {
   "cell_type": "markdown",
   "id": "c40dfb25",
   "metadata": {},
   "source": [
    "### 10. What is the data type of None?"
   ]
  },
  {
   "cell_type": "code",
   "execution_count": 7,
   "id": "56520da7",
   "metadata": {},
   "outputs": [
    {
     "data": {
      "text/plain": [
       "NoneType"
      ]
     },
     "execution_count": 7,
     "metadata": {},
     "output_type": "execute_result"
    }
   ],
   "source": [
    "type(None)"
   ]
  },
  {
   "cell_type": "markdown",
   "id": "61ac10fa",
   "metadata": {},
   "source": [
    "The data type of None is `NoneType`."
   ]
  },
  {
   "cell_type": "markdown",
   "id": "751b0bd1",
   "metadata": {},
   "source": [
    "### 11. What does the sentence import areallyourpetsnamederic do?"
   ]
  },
  {
   "cell_type": "markdown",
   "id": "02c0c738",
   "metadata": {},
   "source": [
    "The import statement will import the package name `areallyourpetsnamederic`"
   ]
  },
  {
   "cell_type": "markdown",
   "id": "6e22684c",
   "metadata": {},
   "source": [
    "### 12. If you had a bacon() feature in a spam module, what would you call it after importing spam?"
   ]
  },
  {
   "cell_type": "markdown",
   "id": "573d8ead",
   "metadata": {},
   "source": [
    "This function can be called with `spam.bacon()`"
   ]
  },
  {
   "cell_type": "markdown",
   "id": "48266516",
   "metadata": {},
   "source": [
    "### 13. What can you do to save a programme from crashing if it encounters an error?"
   ]
  },
  {
   "cell_type": "markdown",
   "id": "20ed4bcf",
   "metadata": {},
   "source": [
    "Write the line of code might cause error in `try` block and use `except` to block to handle error."
   ]
  },
  {
   "cell_type": "markdown",
   "id": "00858b12",
   "metadata": {},
   "source": [
    "### 14. What is the purpose of the try clause? What is the purpose of the except clause?"
   ]
  },
  {
   "cell_type": "markdown",
   "id": "b6770cf6",
   "metadata": {},
   "source": [
    "The purpose of try claues is the code might cause an error write in try block. The purpose of except block is the code might get an error to handle error use except block."
   ]
  }
 ],
 "metadata": {
  "kernelspec": {
   "display_name": "Python 3 (ipykernel)",
   "language": "python",
   "name": "python3"
  },
  "language_info": {
   "codemirror_mode": {
    "name": "ipython",
    "version": 3
   },
   "file_extension": ".py",
   "mimetype": "text/x-python",
   "name": "python",
   "nbconvert_exporter": "python",
   "pygments_lexer": "ipython3",
   "version": "3.9.7"
  }
 },
 "nbformat": 4,
 "nbformat_minor": 5
}
