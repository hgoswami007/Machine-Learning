{
 "cells": [
  {
   "cell_type": "markdown",
   "id": "7a3d8617",
   "metadata": {},
   "source": [
    "1.What are the two values of the Boolean data type? How do you write them?\n",
    "\n",
    "**ANS:** There are two value `'True'` and `'False'` of boolen data types. we have to use capital T and F and with rest of word in lowercase. "
   ]
  },
  {
   "cell_type": "markdown",
   "id": "377b4bde",
   "metadata": {},
   "source": [
    "2.What are the three different types of Boolean operators?\n",
    "\n",
    "**ANS:** There arr Three types of Boolean operators are : `'and'`,`'or'`,`'not'`\n",
    "\n",
    "\n"
   ]
  },
  {
   "cell_type": "code",
   "execution_count": 1,
   "id": "8165ab98",
   "metadata": {},
   "outputs": [],
   "source": [
    "a = 10\n",
    "b = 20\n",
    "print(a>10 and b >10)\n",
    "print(a > 10 or b >10)\n",
    "print(not(b>20))"
   ]
  },
  {
   "cell_type": "markdown",
   "id": "b4593421",
   "metadata": {},
   "source": [
    "3.Make a list of each Boolean operator's truth tables (i.e. every possible combination of Boolean values for the operator and what it evaluate ).\n",
    "\n",
    "**ANS:**\n",
    "\n",
    "Truth Table for `'and'` operator:\n",
    "    True and True is True\n",
    "    True and False is False\n",
    "    False and True is False\n",
    "    False and False is True\n",
    "    \n",
    "Truth Table for `'or'` operator:\n",
    "        True and True is True\n",
    "        True and False is True\n",
    "        False and True is True\n",
    "        False and False is False\n",
    "        \n",
    "Truth Table for `'not'` operator:\n",
    "    True not is False,False is not True\n",
    "    \n",
    "    \n"
   ]
  },
  {
   "cell_type": "markdown",
   "id": "22dd8ee5",
   "metadata": {},
   "source": [
    "4. What are the values of the following expressions?\n",
    "(5 > 4) and (3 == 5)\n",
    "not (5 > 4)\n",
    "(5 > 4) or (3 == 5)\n",
    "not ((5 > 4) or (3 == 5))\n",
    "(True and True) and (True == False)\n",
    "(not False) or (not True)\n",
    "\n",
    "**ANS:**\n",
    "\n",
    "(5 > 4) and (3 == 5) : False\n",
    "not (5 > 4) : False\n",
    "(5 > 4) or (3 == 5) : True\n",
    "not ((5 > 4) or (3 == 5)) : False\n",
    "(True and True) and (True == False) : False\n",
    "(not False) or (not True) : True\n"
   ]
  },
  {
   "cell_type": "code",
   "execution_count": 2,
   "id": "e7f706d4",
   "metadata": {},
   "outputs": [
    {
     "name": "stdout",
     "output_type": "stream",
     "text": [
      "False\n",
      "False\n",
      "True\n",
      "False\n",
      "False\n",
      "True\n"
     ]
    }
   ],
   "source": [
    "print((5 > 4) and (3 == 5)) # False\n",
    "print(not (5 > 4)) # False\n",
    "print((5 > 4) or (3 == 5))  #False\n",
    "print(not ((5 > 4) or (3 == 5)))  #False\n",
    "print((True and True) and (True == False))  #False\n",
    "print((not False) or (not True))  #True\n"
   ]
  },
  {
   "cell_type": "markdown",
   "id": "d9b24fd3",
   "metadata": {},
   "source": [
    "5. What are the six comparison operators?\n",
    "\n",
    "**ANS:** Six comparison operators available in python are:\n",
    "\n",
    "!=, == ,<, >, <=, =>\n"
   ]
  },
  {
   "cell_type": "markdown",
   "id": "ed662b4b",
   "metadata": {},
   "source": [
    "6. How do you tell the difference between the equal to and assignment operators?Describe a condition and when you would use one.\n",
    "\n",
    "**ANS:** \n",
    "\n",
    "== equal to operater compares two values and evaluate to a boolean, = assignment operator store value in a variable.  "
   ]
  },
  {
   "cell_type": "markdown",
   "id": "b5d58000",
   "metadata": {},
   "source": [
    "7. Identify the three blocks in this code:\n",
    "\n",
    "\n",
    "spam = 0\n",
    "\n",
    "if spam == 10:\n",
    "\n",
    "print('eggs')\n",
    "if spam > 5:\n",
    "\n",
    "print('bacon')\n",
    "\n",
    "else:\n",
    "\n",
    "print('ham')\n",
    "\n",
    "print('spam')\n",
    "\n",
    "print('spam')\n",
    "\n",
    "**ANS:** In Python,code block refer to a collection of code that is in same block or indent.This is mostly found in class,function and loops."
   ]
  },
  {
   "cell_type": "code",
   "execution_count": 3,
   "id": "552ecf21",
   "metadata": {},
   "outputs": [
    {
     "name": "stdout",
     "output_type": "stream",
     "text": [
      "ham\n",
      "spam\n",
      "spam\n"
     ]
    }
   ],
   "source": [
    "spam = 0\n",
    "if spam == 10:\n",
    "    print('eggs')\n",
    "if spam > 5:\n",
    "    print('bacon')\n",
    "else:\n",
    "    print('ham')\n",
    "    print('spam')\n",
    "    print('spam')\n"
   ]
  },
  {
   "cell_type": "markdown",
   "id": "f1bb35fb",
   "metadata": {},
   "source": [
    "8. Write code that prints Hello if 1 is stored in spam, prints Howdy if 2 is stored in spam, and prints Greetings! if anything else is stored in spam."
   ]
  },
  {
   "cell_type": "code",
   "execution_count": 4,
   "id": "36287766",
   "metadata": {},
   "outputs": [
    {
     "name": "stdout",
     "output_type": "stream",
     "text": [
      "1\n",
      "Hello\n"
     ]
    }
   ],
   "source": [
    "spam = int(input())\n",
    "if spam == 1:\n",
    "    print('Hello')\n",
    "elif spam == 2:\n",
    "    print('Howdy')\n",
    "else:\n",
    "    print('Greetings')"
   ]
  },
  {
   "cell_type": "markdown",
   "id": "bd0d16a9",
   "metadata": {},
   "source": [
    "9.If your programme is stuck in an endless loop, what keys you’ll press?\n",
    "\n",
    "**ANS:** Press `'ctrl + c'` to stop program stuck in an infinity loop."
   ]
  },
  {
   "cell_type": "markdown",
   "id": "42f08d51",
   "metadata": {},
   "source": [
    "10. How can you tell the difference between break and continue?\n",
    "\n",
    "The `'break'` statement will move the execution outside of the loop if break condition satisfied. Whereas continue statement will move to execution to the start of the loop."
   ]
  },
  {
   "cell_type": "markdown",
   "id": "97305a9f",
   "metadata": {},
   "source": [
    "11. In a for loop, what is the difference between range(10), range(0, 10), and range(0, 10, 1)?\n",
    "\n",
    "**ANS:**\n",
    "1. The range(10) calls range from  0 to 9.(but not include 10)\n",
    "2. The range(0,10) explicitly says that loop to start from 0.(but not include 10)\n",
    "3. The range(0,10,1) explocitly tells that to increae by 1 on each iteration."
   ]
  },
  {
   "cell_type": "markdown",
   "id": "bb1387cb",
   "metadata": {},
   "source": [
    "12. Write a short program that prints the numbers 1 to 10 using a for loop. Then write an equivalent program that prints the numbers 1 to 10 using a while loop."
   ]
  },
  {
   "cell_type": "code",
   "execution_count": 5,
   "id": "5daa33fa",
   "metadata": {},
   "outputs": [
    {
     "name": "stdout",
     "output_type": "stream",
     "text": [
      "1 to 10 using for loop\n",
      "0 1 2 3 4 5 6 7 8 9 10 \n",
      "\n",
      "1 to 10 using while loop\n",
      "1 2 3 4 5 6 7 8 9 10 "
     ]
    }
   ],
   "source": [
    "print(\"1 to 10 using for loop\")\n",
    "for i in range(0,11):\n",
    "    print(i, end=' ')\n",
    "print('\\n')\n",
    "\n",
    "\n",
    "print(\"1 to 10 using while loop\")\n",
    " \n",
    "j=1\n",
    "while j <=10 :\n",
    "    print(j,end=' ')\n",
    "    j = j +1\n",
    "\n",
    "    \n",
    "\n",
    "\n",
    "\n"
   ]
  },
  {
   "cell_type": "markdown",
   "id": "1e907dab",
   "metadata": {},
   "source": [
    "13. If you had a function named bacon() inside a module named spam, how would you call it after importing spam?\n",
    "\n",
    "**ANS:** The function can be called with spam.bacon()"
   ]
  }
 ],
 "metadata": {
  "kernelspec": {
   "display_name": "Python 3 (ipykernel)",
   "language": "python",
   "name": "python3"
  },
  "language_info": {
   "codemirror_mode": {
    "name": "ipython",
    "version": 3
   },
   "file_extension": ".py",
   "mimetype": "text/x-python",
   "name": "python",
   "nbconvert_exporter": "python",
   "pygments_lexer": "ipython3",
   "version": "3.9.7"
  }
 },
 "nbformat": 4,
 "nbformat_minor": 5
}
