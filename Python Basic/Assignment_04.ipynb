{
 "cells": [
  {
   "cell_type": "markdown",
   "id": "ed8e750a",
   "metadata": {},
   "source": [
    "#### 1.What exactly is [ ]?"
   ]
  },
  {
   "cell_type": "markdown",
   "id": "dea5e6cd",
   "metadata": {},
   "source": [
    "ANS. The empty list is represented by [ ], that contains no element. this is similar to ' ' which represent by emptry string."
   ]
  },
  {
   "cell_type": "markdown",
   "id": "7f321694",
   "metadata": {},
   "source": [
    "#### 2.In a list of values stored in a variable called spam, how would you assign the value 'hello' as the third value? (Assume [2, 4, 6, 8, 10] are in spam.)"
   ]
  },
  {
   "cell_type": "markdown",
   "id": "04344c18",
   "metadata": {},
   "source": [
    "ANS. spam[2] = \"hello\" (Note : List use Zero base indexing)"
   ]
  },
  {
   "cell_type": "markdown",
   "id": "8d983b45",
   "metadata": {},
   "source": [
    "## Let's pretend the spam includes the list ['a','b','c',d'] for the next three queries.\n"
   ]
  },
  {
   "cell_type": "markdown",
   "id": "ad113a6e",
   "metadata": {},
   "source": [
    "#### 3. What is the value of spam[int(int('3'*2)//11)] ?"
   ]
  },
  {
   "cell_type": "code",
   "execution_count": 13,
   "id": "96466939",
   "metadata": {},
   "outputs": [
    {
     "name": "stdout",
     "output_type": "stream",
     "text": [
      "spam[int(int('3'*2)//11)] -> d\n"
     ]
    }
   ],
   "source": [
    "spam = ['a','b','c','d']\n",
    "print(\"spam[int(int('3'*2)//11)] ->\", spam[int(int('3'*2)/11)])"
   ]
  },
  {
   "cell_type": "markdown",
   "id": "4801c34d",
   "metadata": {},
   "source": [
    "#### 4. What is the value of spam[-1]?"
   ]
  },
  {
   "cell_type": "code",
   "execution_count": 15,
   "id": "3a5e37b3",
   "metadata": {},
   "outputs": [
    {
     "name": "stdout",
     "output_type": "stream",
     "text": [
      "spam[-1] ->  d\n"
     ]
    }
   ],
   "source": [
    "spam = ['a','b','c','d']\n",
    "\n",
    "print('spam[-1] -> ', spam[-1])\n"
   ]
  },
  {
   "cell_type": "markdown",
   "id": "a4517712",
   "metadata": {},
   "source": [
    "#### 5. What is the value of spam[:2]?"
   ]
  },
  {
   "cell_type": "code",
   "execution_count": 16,
   "id": "b1a696d4",
   "metadata": {},
   "outputs": [
    {
     "name": "stdout",
     "output_type": "stream",
     "text": [
      "The value of spam[:2] is ->  ['a', 'b']\n"
     ]
    }
   ],
   "source": [
    "spam = ['a','b','c','d']\n",
    "\n",
    "print(\"The value of spam[:2] is -> \", spam[:2])"
   ]
  },
  {
   "cell_type": "markdown",
   "id": "44196a18",
   "metadata": {},
   "source": [
    "# Let's pretend bacon has the list [3.14,'cat',11,'cat',True] for the next three question\n"
   ]
  },
  {
   "cell_type": "markdown",
   "id": "f37c5173",
   "metadata": {},
   "source": [
    "#### 6. What is the value of bacon.index('cat') "
   ]
  },
  {
   "cell_type": "code",
   "execution_count": 17,
   "id": "b9fc03de",
   "metadata": {},
   "outputs": [
    {
     "name": "stdout",
     "output_type": "stream",
     "text": [
      "The value of cat index is ->  1\n"
     ]
    }
   ],
   "source": [
    "bacon = [3.14, 'cat',11,'cat',True]\n",
    "print(\"The value of cat index is -> \",bacon.index('cat'))"
   ]
  },
  {
   "cell_type": "markdown",
   "id": "5c33eae9",
   "metadata": {},
   "source": [
    "#### 7. How does bacon.append(99) change the look of the list value in bacon?"
   ]
  },
  {
   "cell_type": "markdown",
   "id": "15a40622",
   "metadata": {},
   "source": [
    "ANS. The append method will add the new element into list at tail position."
   ]
  },
  {
   "cell_type": "markdown",
   "id": "2e326862",
   "metadata": {},
   "source": [
    "#### 8. How does bacon.remove('cat') change the look of the list in bacon?"
   ]
  },
  {
   "cell_type": "markdown",
   "id": "a9a07805",
   "metadata": {},
   "source": [
    "ANS. The `remove` method will remove the first occurence of the element in the list. "
   ]
  },
  {
   "cell_type": "markdown",
   "id": "0803db7a",
   "metadata": {},
   "source": [
    "#### 9.what are the list concatenation and list replication operations?"
   ]
  },
  {
   "cell_type": "markdown",
   "id": "3f779e3c",
   "metadata": {},
   "source": [
    "The list concatenation is `+`. The list replication is `*`\n",
    "\n",
    "`concatenation` operator will add one string at the end of other string.\n",
    "\n",
    "`replication` : The multiplication operator is acts as replication when we have one string and one intenger as operands."
   ]
  },
  {
   "cell_type": "code",
   "execution_count": 23,
   "id": "67640780",
   "metadata": {},
   "outputs": [
    {
     "name": "stdout",
     "output_type": "stream",
     "text": [
      "['ML', 'DL', 'AI', 'CV', 'NLP', 'RNN', 'CNN', 'SVN']\n",
      "['ML', 'DL', 'AI', 'CV', 'NLP', 'ML', 'DL', 'AI', 'CV', 'NLP']\n",
      "['RNN', 'CNN', 'SVN', 'RNN', 'CNN', 'SVN']\n"
     ]
    }
   ],
   "source": [
    "# Example\n",
    "list_1 = ['ML','DL','AI','CV','NLP']\n",
    "list_2 = ['RNN','CNN','SVN']\n",
    "\n",
    "print(list_1 + list_2)\n",
    "print(list_1*2)\n",
    "print(list_2*2)"
   ]
  },
  {
   "cell_type": "markdown",
   "id": "84649f8b",
   "metadata": {},
   "source": [
    "#### 10.what is the difference between the list method append() and insert()?"
   ]
  },
  {
   "cell_type": "markdown",
   "id": "ac7aa1c4",
   "metadata": {},
   "source": [
    "`append` : The append method will add element into list at tail position.\n",
    "\n",
    "`insert` : The insert method will add element into list at desire index."
   ]
  },
  {
   "cell_type": "markdown",
   "id": "b697aa60",
   "metadata": {},
   "source": [
    "#### 11. What are the two methods for removing items from a list?"
   ]
  },
  {
   "cell_type": "markdown",
   "id": "31913898",
   "metadata": {},
   "source": [
    "There are two method use for element removing one is `pop` and other one is `remove`"
   ]
  },
  {
   "cell_type": "markdown",
   "id": "a912349a",
   "metadata": {},
   "source": [
    "#### 12. Describe how list values and string values are identical."
   ]
  },
  {
   "cell_type": "markdown",
   "id": "73366204",
   "metadata": {},
   "source": [
    "ANS. Borh list and string value can pe passed in `len` function to know lenght of it. we can de `slice` operation in both case to use it in for loop and even more we can use `in` and `not in` in string and list."
   ]
  },
  {
   "cell_type": "markdown",
   "id": "05455a68",
   "metadata": {},
   "source": [
    "#### 13. What's the difference between tuples and lists?"
   ]
  },
  {
   "cell_type": "markdown",
   "id": "c431c73a",
   "metadata": {},
   "source": [
    "**ANS.** Lists are `Mutable`, `Indexable`, `Slicable`, lists can have values added, removed or changed. Tupples are `Immutable` but `Indexable`, `Sliceable` the tupples can not have added or changed value, tupples can be represented by `()` and lists can be represented by `[]`"
   ]
  },
  {
   "cell_type": "markdown",
   "id": "881c77bd",
   "metadata": {},
   "source": [
    "#### 14. How do you type a tuple value that only contains the integer 42?"
   ]
  },
  {
   "cell_type": "code",
   "execution_count": 32,
   "id": "01ce26b7",
   "metadata": {},
   "outputs": [
    {
     "name": "stdout",
     "output_type": "stream",
     "text": [
      "<class 'tuple'>\n",
      "(42,)\n"
     ]
    }
   ],
   "source": [
    "tup1 = (42,)\n",
    "print(type(tup1))\n",
    "print(tup1)"
   ]
  },
  {
   "cell_type": "markdown",
   "id": "5a7a8fe1",
   "metadata": {},
   "source": [
    "#### 15. How do you get a list value's tuple form? How do you get a tuple value's list form?"
   ]
  },
  {
   "cell_type": "markdown",
   "id": "579a5bb6",
   "metadata": {},
   "source": [
    "**ANS.** The list() and tuple() functions, respectively are used to convert list to tuple and vice versa."
   ]
  },
  {
   "cell_type": "markdown",
   "id": "ab6e534d",
   "metadata": {},
   "source": [
    "#### 16. Variables that \"contain\" list values are not necessarily lists themselves. Instead, what do they contain?"
   ]
  },
  {
   "cell_type": "markdown",
   "id": "295632fe",
   "metadata": {},
   "source": [
    "**ANS.**  They contain reference of list values."
   ]
  },
  {
   "cell_type": "markdown",
   "id": "3357efb7",
   "metadata": {},
   "source": [
    "#### 17. How do you distinguish between copy.copy() and copy.deepcopy()?"
   ]
  },
  {
   "cell_type": "markdown",
   "id": "ec90b71c",
   "metadata": {},
   "source": [
    "**ANS.** The `copy.copy()` function will do only shallow copy of list, while the `copy.deepcopy()` function will do deep copy of  a list. That is only `copy.deepcopy()` will do duplicate anylist inside list."
   ]
  },
  {
   "cell_type": "code",
   "execution_count": 46,
   "id": "2b9c0ee1",
   "metadata": {},
   "outputs": [
    {
     "name": "stdout",
     "output_type": "stream",
     "text": [
      "[1, 2, [3, 5]]\n"
     ]
    }
   ],
   "source": [
    "import copy\n",
    "lst1 = [1,2,[3,5]]\n",
    "lst2 = copy.copy(lst1)\n",
    "print(lst2)"
   ]
  },
  {
   "cell_type": "code",
   "execution_count": 47,
   "id": "69bed679",
   "metadata": {},
   "outputs": [
    {
     "name": "stdout",
     "output_type": "stream",
     "text": [
      "[1, 2, [3, 5]]\n"
     ]
    }
   ],
   "source": [
    "lst1 = [1,2,[3,5]]\n",
    "lst2 = copy.deepcopy(lst1)\n",
    "print(lst2)"
   ]
  }
 ],
 "metadata": {
  "kernelspec": {
   "display_name": "Python 3 (ipykernel)",
   "language": "python",
   "name": "python3"
  },
  "language_info": {
   "codemirror_mode": {
    "name": "ipython",
    "version": 3
   },
   "file_extension": ".py",
   "mimetype": "text/x-python",
   "name": "python",
   "nbconvert_exporter": "python",
   "pygments_lexer": "ipython3",
   "version": "3.9.7"
  }
 },
 "nbformat": 4,
 "nbformat_minor": 5
}
