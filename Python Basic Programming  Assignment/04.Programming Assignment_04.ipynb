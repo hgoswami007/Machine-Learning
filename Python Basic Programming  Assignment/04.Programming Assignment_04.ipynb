{
 "cells": [
  {
   "cell_type": "markdown",
   "metadata": {},
   "source": [
    "# Assignment 4 Solutions"
   ]
  },
  {
   "cell_type": "markdown",
   "metadata": {},
   "source": [
    "#### 1.Write a Python Program to find the factorial of a number ?"
   ]
  },
  {
   "cell_type": "code",
   "execution_count": 58,
   "metadata": {},
   "outputs": [
    {
     "name": "stdout",
     "output_type": "stream",
     "text": [
      "Enter a number : 5\n"
     ]
    },
    {
     "data": {
      "text/plain": [
       "120"
      ]
     },
     "execution_count": 58,
     "metadata": {},
     "output_type": "execute_result"
    }
   ],
   "source": [
    "input_number = int(input(\"Enter a number : \"))\n",
    "def factorial(input_number):\n",
    "    if input_number < 1 :\n",
    "        return 1\n",
    "    else:\n",
    "        return input_number*factorial(input_number-1)\n",
    "\n",
    "\n",
    "factorial(5)"
   ]
  },
  {
   "cell_type": "markdown",
   "metadata": {},
   "source": [
    "#### 2.Write a Python Program to display the multiplication table ?"
   ]
  },
  {
   "cell_type": "code",
   "execution_count": 60,
   "metadata": {},
   "outputs": [
    {
     "name": "stdout",
     "output_type": "stream",
     "text": [
      "Enter a number: 10\n",
      "10 X 1 = 10\n",
      "10 X 2 = 20\n",
      "10 X 3 = 30\n",
      "10 X 4 = 40\n",
      "10 X 5 = 50\n",
      "10 X 6 = 60\n",
      "10 X 7 = 70\n",
      "10 X 8 = 80\n",
      "10 X 9 = 90\n",
      "10 X 10 = 100\n"
     ]
    }
   ],
   "source": [
    "def generateTable(base):\n",
    "    for i in range(1,11):\n",
    "        print(f'{base} X {i} =',base*i)\n",
    "        \n",
    "num = int(input('Enter a number: '))\n",
    "# values = int(input('Enter no of entries: '))\n",
    "generateTable(num)"
   ]
  },
  {
   "cell_type": "markdown",
   "metadata": {},
   "source": [
    "#### 3.Write a Python Program to print the fibonacci sequence ?"
   ]
  },
  {
   "cell_type": "code",
   "execution_count": 65,
   "metadata": {},
   "outputs": [
    {
     "name": "stdout",
     "output_type": "stream",
     "text": [
      "Enter the no of fibonacci sequences you want? 20\n",
      "The First 20 series are :  [0, 1, 1, 2, 3, 5, 8, 13, 21, 34, 55, 89, 144, 233, 377, 610, 987, 1597, 2584, 4181]\n"
     ]
    }
   ],
   "source": [
    "number = int(input(\"Enter the no of fibonacci sequences you want? \"))\n",
    "\n",
    "def fibonacci_number(number):\n",
    "    number_list = []\n",
    "    for i in range(0,number):\n",
    "        if i in [0,1]:\n",
    "            number_list.append(i)\n",
    "        else:\n",
    "            number_list.append(number_list[-1] + number_list[-2])\n",
    "    print(f'The First {number} series are : ',number_list)\n",
    "    \n",
    "fibonacci_number(number)"
   ]
  },
  {
   "cell_type": "markdown",
   "metadata": {},
   "source": [
    "#### 4.Write a Python Program to check Armstrong number ?"
   ]
  },
  {
   "cell_type": "code",
   "execution_count": 6,
   "metadata": {},
   "outputs": [
    {
     "name": "stdout",
     "output_type": "stream",
     "text": [
      "Enter a number: 1694\n",
      "1694 is a not Armstrong Number\n"
     ]
    }
   ],
   "source": [
    "def checkArmstrongNumber():\n",
    "    in_num = input('Enter a number: ')\n",
    "    sum = 0\n",
    "    for i in in_num:\n",
    "        sum = sum + pow(int(i),len(in_num))\n",
    "    if sum == int(in_num):\n",
    "        print(f\"{in_num} is a Armstrong Number\")\n",
    "    else:\n",
    "        print(f\"{in_num} is a not Armstrong Number\")\n",
    "        \n",
    "checkArmstrongNumber()"
   ]
  },
  {
   "cell_type": "markdown",
   "metadata": {},
   "source": [
    "#### 5.Write a Python Program to Find Armstrong number in an interval ?"
   ]
  },
  {
   "cell_type": "code",
   "execution_count": 8,
   "metadata": {},
   "outputs": [
    {
     "data": {
      "text/plain": [
       "[0, 1, 2, 3, 4, 5, 6, 7, 8, 9, 153, 370, 371, 407, 1634, 8208, 9474]"
      ]
     },
     "execution_count": 8,
     "metadata": {},
     "output_type": "execute_result"
    }
   ],
   "source": [
    "# def checkArmstrongNumber(in_num, storage):\n",
    "#     sum = 0\n",
    "#     for char in range(len(in_num)):\n",
    "#         sum = sum + pow(int(in_num[char]),3)\n",
    "#     if sum == int(in_num):\n",
    "#         storage.append(int(in_num))\n",
    "\n",
    "# start_interval = int(input('Enter the Start of the Interval: '))\n",
    "# end_interval = int(input('Enter the End of the Interval: '))\n",
    "# list_of_armstrong = []\n",
    "\n",
    "# if start_interval > end_interval:\n",
    "#     print(\"Start Interval Cannot be Greater than End Interval\")\n",
    "# else:\n",
    "#     for number in range(start_interval,end_interval+1):\n",
    "#         checkArmstrongNumber(str(number),list_of_armstrong)\n",
    "#     print(f'The Armstrong numbers between {start_interval} and {end_interval} are {list_of_armstrong}')\n",
    "def checkArmstrongNumber(in_num):\n",
    "#     in_num = input('Enter a number: ')\n",
    "    sum = 0\n",
    "    for i in in_num:\n",
    "        sum = sum + pow(int(i),len(in_num))\n",
    "    if sum == int(in_num):\n",
    "        return True\n",
    "    else:\n",
    "        return False\n",
    "        \n",
    "def checkArmstrongNumber_list(start,end):\n",
    "    list_of_armstrong = []\n",
    "    for i in range(start,end):\n",
    "        result_number = checkArmstrongNumber(str(i))\n",
    "        if result_number == True:\n",
    "            list_of_armstrong.append(i)\n",
    "    return list_of_armstrong\n",
    "        \n",
    "checkArmstrongNumber_list(0,10000)"
   ]
  },
  {
   "cell_type": "markdown",
   "metadata": {},
   "source": [
    "#### 6.Write a Python Program to sum of natural numbers ?"
   ]
  },
  {
   "cell_type": "code",
   "execution_count": 6,
   "metadata": {},
   "outputs": [
    {
     "name": "stdout",
     "output_type": "stream",
     "text": [
      "Enter a number: 100\n",
      "Sum of 100 natural numbers is 5050.0\n"
     ]
    }
   ],
   "source": [
    "def sumOfNaturalNumbers(num):\n",
    "    sum = num*((num+1)/2)\n",
    "    print(f'Sum of {num} natural numbers is {sum}')\n",
    "    \n",
    "num = int(input('Enter a number: '))\n",
    "sumOfNaturalNumbers(num)"
   ]
  }
 ],
 "metadata": {
  "kernelspec": {
   "display_name": "Python 3 (ipykernel)",
   "language": "python",
   "name": "python3"
  },
  "language_info": {
   "codemirror_mode": {
    "name": "ipython",
    "version": 3
   },
   "file_extension": ".py",
   "mimetype": "text/x-python",
   "name": "python",
   "nbconvert_exporter": "python",
   "pygments_lexer": "ipython3",
   "version": "3.9.7"
  }
 },
 "nbformat": 4,
 "nbformat_minor": 4
}
