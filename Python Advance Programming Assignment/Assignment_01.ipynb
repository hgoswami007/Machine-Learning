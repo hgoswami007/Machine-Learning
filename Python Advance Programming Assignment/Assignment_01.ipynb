{
 "cells": [
  {
   "cell_type": "code",
   "execution_count": null,
   "id": "8763931d",
   "metadata": {},
   "outputs": [],
   "source": []
  },
  {
   "cell_type": "code",
   "execution_count": 30,
   "id": "733b0a03",
   "metadata": {},
   "outputs": [
    {
     "name": "stdout",
     "output_type": "stream",
     "text": [
      "check score ([['#', '!'], ['!!', 'X']]) => 2\n",
      "check score ([['!!!', 'o', '!'], ['X', '#', '!!!'], ['!!', 'X', 'o']]) => 0\n"
     ]
    }
   ],
   "source": [
    " def checkScore(list_in):\n",
    "    check_dict = {'#':5,'o':3,'X':1,'!':-1,'!!':-3,'!!!':-5}\n",
    "    out_num = 0\n",
    "    \n",
    "    for element in list_in:\n",
    "        for sub_element in element:\n",
    "            out_num += check_dict[sub_element]\n",
    "    if(out_num < 0):\n",
    "        print(f'check score ({list_in}) => {0}')\n",
    "    else:\n",
    "        print(f'check score ({list_in}) => {out_num}')\n",
    "        \n",
    " \n",
    " checkScore([['#','!'],['!!','X']])\n",
    "checkScore([['!!!','o','!'],['X','#','!!!'],['!!','X','o']])       \n",
    "        \n",
    "            \n",
    "    "
   ]
  },
  {
   "cell_type": "code",
   "execution_count": null,
   "id": "3bb26060",
   "metadata": {},
   "outputs": [],
   "source": []
  },
  {
   "cell_type": "code",
   "execution_count": 38,
   "id": "00441d9b",
   "metadata": {},
   "outputs": [
    {
     "name": "stdout",
     "output_type": "stream",
     "text": [
      "combinations of (2, 3) → 6\n",
      "combinations of (3, 7, 4) → 84\n",
      "combinations of (2, 3, 4, 5) → 120\n"
     ]
    }
   ],
   "source": [
    "def combinations(*args):\n",
    "    num = 1\n",
    "    for ele in args:\n",
    "        num = ele*num\n",
    "    print(f'combinations of {args} → {num}')\n",
    "        \n",
    "combinations(2, 3)\n",
    "combinations(3, 7, 4)\n",
    "combinations(2, 3, 4, 5)\n"
   ]
  },
  {
   "cell_type": "code",
   "execution_count": null,
   "id": "90fe8b83",
   "metadata": {},
   "outputs": [],
   "source": [
    "char_to_dots = {\n",
    "'A': '.-', 'B': '-...', 'C': '-.-.', 'D': '-..', 'E': '.', 'F': '..-.',\n",
    "'G': '--.', 'H': '....', 'I': '..', 'J': '.---', 'K': '-.-', 'L': '.-..',\n",
    "'M': '--', 'N': '-.', 'O': '---', 'P': '.--.', 'Q': '--.-', 'R': '.-.',\n",
    "'S': '...', 'T': '-', 'U': '..-', 'V': '...-', 'W': '.--', 'X': '-..-',\n",
    "'Y': '-.--', 'Z': '--..', ' ': ' ', '0': '-----',\n",
    "'1': '.----', '2': '..---', '3': '...--', '4': '....-', '5': '.....',\n",
    "'6': '-....', '7': '--...', '8': '---..', '9': '----.',\n",
    "'&': '.-...', \"'\": '.----.', '@': '.--.-.', ')': '-.--.-', '(': '-.--.',\n",
    "':': '---...', ',': '--..--', '=': '-...-', '!': '-.-.--', '.': '.-.-.-',\n",
    "'-': '-....-', '+': '.-.-.', '\"': '.-..-.', '?': '..--..', '/': '-..-.'\n",
    "}"
   ]
  },
  {
   "cell_type": "code",
   "execution_count": 50,
   "id": "a2d7ebf7",
   "metadata": {},
   "outputs": [
    {
     "name": "stdout",
     "output_type": "stream",
     "text": [
      "Morse code of (EDABBIT CHALLENGE) → (.-...--...-.....- -.-......-.-...-...-.--..)\n",
      "Morse code of (HELP ME !) → (......-...--. --. -.-.--)\n"
     ]
    }
   ],
   "source": [
    "def encode_morse(string_in):\n",
    "    result = ''\n",
    "    char_to_dots = {\n",
    "            'A': '.-', 'B': '-...', 'C': '-.-.', 'D': '-..', 'E': '.', 'F': '..-.',\n",
    "            'G': '--.', 'H': '....', 'I': '..', 'J': '.---', 'K': '-.-', 'L': '.-..',\n",
    "            'M': '--', 'N': '-.', 'O': '---', 'P': '.--.', 'Q': '--.-', 'R': '.-.',\n",
    "            'S': '...', 'T': '-', 'U': '..-', 'V': '...-', 'W': '.--', 'X': '-..-',\n",
    "            'Y': '-.--', 'Z': '--..', ' ': ' ', '0': '-----',\n",
    "            '1': '.----', '2': '..---', '3': '...--', '4': '....-', '5': '.....',\n",
    "            '6': '-....', '7': '--...', '8': '---..', '9': '----.',\n",
    "            '&': '.-...', \"'\": '.----.', '@': '.--.-.', ')': '-.--.-', '(': '-.--.',\n",
    "            ':': '---...', ',': '--..--', '=': '-...-', '!': '-.-.--', '.': '.-.-.-',\n",
    "            '-': '-....-', '+': '.-.-.', '\"': '.-..-.', '?': '..--..', '/': '-..-.'\n",
    "            }\n",
    "    for i in string_in:\n",
    "        \n",
    "        result += char_to_dots[i]\n",
    "#         print(out_string)\n",
    "    print(f'Morse code of ({string_in}) → ({result})')\n",
    "    \n",
    "encode_morse(\"EDABBIT CHALLENGE\")\n",
    "encode_morse(\"HELP ME !\")     \n",
    "    \n",
    "    "
   ]
  },
  {
   "cell_type": "code",
   "execution_count": null,
   "id": "3ba68b97",
   "metadata": {},
   "outputs": [],
   "source": []
  },
  {
   "cell_type": "code",
   "execution_count": 51,
   "id": "713d419f",
   "metadata": {},
   "outputs": [
    {
     "name": "stdout",
     "output_type": "stream",
     "text": [
      "prime(7) → True\n",
      "prime(56963) → True\n",
      "prime(5151512515524) → False\n"
     ]
    }
   ],
   "source": [
    "def prime(num):\n",
    "    Flag = False\n",
    "    if num > 1:\n",
    "        for i in range(2,num):\n",
    "            if num % i == 0:\n",
    "                Flag = True\n",
    "                break\n",
    "                \n",
    "    if Flag == True:\n",
    "        print(f'prime({num}) → False')\n",
    "    else:\n",
    "        print(f'prime({num}) → True')\n",
    "        \n",
    "prime(7)\n",
    "prime(56963)\n",
    "prime(5151512515524)\n",
    "                "
   ]
  },
  {
   "cell_type": "code",
   "execution_count": null,
   "id": "a8dc35d0",
   "metadata": {},
   "outputs": [],
   "source": []
  },
  {
   "cell_type": "code",
   "execution_count": 59,
   "id": "818e62fd",
   "metadata": {},
   "outputs": [
    {
     "name": "stdout",
     "output_type": "stream",
     "text": [
      "to_boolean_list(deep) → [False, True, True, False]\n"
     ]
    }
   ],
   "source": [
    "def to_booleanArray(string):\n",
    "    alphabet = 'abcdefghijklmnopqrstuvwxyz'\n",
    "    result = []\n",
    "    \n",
    "    for i in string:\n",
    "        result.append(bool((alphabet.index(i) +1)%2))\n",
    "    print(f'to_boolean_list({string}) → {result}')\n",
    "     \n",
    "           \n",
    "            \n",
    "            \n",
    "to_booleanArray('deep')\n",
    "            "
   ]
  },
  {
   "cell_type": "code",
   "execution_count": null,
   "id": "e72d2a40",
   "metadata": {},
   "outputs": [],
   "source": []
  }
 ],
 "metadata": {
  "kernelspec": {
   "display_name": "Python 3 (ipykernel)",
   "language": "python",
   "name": "python3"
  },
  "language_info": {
   "codemirror_mode": {
    "name": "ipython",
    "version": 3
   },
   "file_extension": ".py",
   "mimetype": "text/x-python",
   "name": "python",
   "nbconvert_exporter": "python",
   "pygments_lexer": "ipython3",
   "version": "3.9.7"
  }
 },
 "nbformat": 4,
 "nbformat_minor": 5
}
