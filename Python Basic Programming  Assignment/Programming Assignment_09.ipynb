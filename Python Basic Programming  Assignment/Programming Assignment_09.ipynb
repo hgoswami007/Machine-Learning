{
 "cells": [
  {
   "cell_type": "markdown",
   "id": "caf38d79",
   "metadata": {},
   "source": [
    "Write a Python program to check if the given number is a Disarium Number?"
   ]
  },
  {
   "cell_type": "code",
   "execution_count": 1,
   "id": "3b84ef61",
   "metadata": {},
   "outputs": [
    {
     "name": "stdout",
     "output_type": "stream",
     "text": [
      "Enter the number: 135\n",
      "The 135 is Disarium number\n"
     ]
    }
   ],
   "source": [
    "def disariumNumber():\n",
    "    num = input('Enter the number: ')\n",
    "    value = 0\n",
    "    for i in range(len(num)):\n",
    "        value += pow(int(num[i]) , (i+1))\n",
    "    if value == int(num):\n",
    "        print(f'The {value} is Disarium number')\n",
    "    else:\n",
    "        print(f'The {value} is not Disarium number')\n",
    "        \n",
    "        \n",
    "disariumNumber()"
   ]
  },
  {
   "cell_type": "markdown",
   "id": "701ebe7d",
   "metadata": {},
   "source": [
    "Write a Python program to print all disarium number between 1 to 100?"
   ]
  },
  {
   "cell_type": "code",
   "execution_count": 18,
   "id": "860793b0",
   "metadata": {},
   "outputs": [
    {
     "name": "stdout",
     "output_type": "stream",
     "text": [
      "Enter the number : 1\n",
      "Enter the number : 100\n",
      "[1, 2, 3, 4, 5, 6, 7, 8, 9, 89]\n"
     ]
    }
   ],
   "source": [
    "def disarium123():\n",
    "    a = int(input('Enter the number : '))\n",
    "    b = int(input('Enter the number : ')) \n",
    "    \n",
    "    result_list = []\n",
    "    for i in range(a,b):\n",
    "        value = 0\n",
    "        for j in range(len(str(i))):\n",
    "            value += pow(int(str(i)[j]),j+1)\n",
    "        if value == i:\n",
    "            result_list.append(i)\n",
    "    print(result_list)\n",
    "    \n",
    "      \n",
    "disarium123()"
   ]
  },
  {
   "cell_type": "markdown",
   "id": "1ed3ccd8",
   "metadata": {},
   "source": [
    "Write a Python Program to check if the number is Happy Number ?"
   ]
  },
  {
   "cell_type": "code",
   "execution_count": 1,
   "id": "282187ac",
   "metadata": {},
   "outputs": [
    {
     "name": "stdout",
     "output_type": "stream",
     "text": [
      "Enter the Number: 7\n",
      "7 is a Happy Number\n"
     ]
    }
   ],
   "source": [
    "def checkHappyNumber():\n",
    "    num = (input('Enter the Number: '))\n",
    "    duplicate_number = num\n",
    "    \n",
    "    tracknum = set()\n",
    "    while True:\n",
    "        if num != \"1\" and str(num) not in tracknum:\n",
    "            tracknum.add(num)\n",
    "            sum = 0\n",
    "            for i in range(len(num)):\n",
    "                sum = sum + int(num[i]) **2\n",
    "            num = str(sum)\n",
    "        elif str(num) in tracknum:\n",
    "            print(f'{duplicate_number} is not a Happy Number')\n",
    "            break\n",
    "        else:\n",
    "            print(f'{duplicate_number} is a Happy Number')\n",
    "            break\n",
    "                                 \n",
    "checkHappyNumber()"
   ]
  },
  {
   "cell_type": "markdown",
   "id": "407d2f7c",
   "metadata": {},
   "source": [
    "Write a Python program to print all Happy Number between 1 to 100?"
   ]
  },
  {
   "cell_type": "code",
   "execution_count": 5,
   "id": "81771dcf",
   "metadata": {},
   "outputs": [
    {
     "name": "stdout",
     "output_type": "stream",
     "text": [
      "Enter the Number: 1\n",
      "Enter the Number: 100\n",
      "The Happy number between 1 and 100 are [1, 7, 10, 13, 19, 23, 28, 31, 32, 44, 49, 68, 70, 79, 82, 86, 91, 94, 97, 100]\n"
     ]
    }
   ],
   "source": [
    "def checkHappyNumber():\n",
    "    fromNum = int(input('Enter the Number: '))\n",
    "    toNum = int(input('Enter the Number: '))    \n",
    "    happyNumberList = []\n",
    "    for num in range(fromNum,toNum+1):\n",
    "        num = str(num)\n",
    "        duplicate_number = num\n",
    "        trackNumber = set()\n",
    "        while True:\n",
    "            if num != '1'and str(num) not in trackNumber: \n",
    "                trackNumber.add(num)\n",
    "                sum = 0\n",
    "                for j in range(len((num))):\n",
    "                    sum = sum + int(num[j])**2\n",
    "                num = str(sum)\n",
    "            elif str(num) in trackNumber:\n",
    "                break\n",
    "            else:\n",
    "                happyNumberList.append(int(duplicate_number))\n",
    "                break\n",
    "    print(f'The Happy number between {fromNum} and {toNum} are {happyNumberList}')\n",
    "                \n",
    "                \n",
    "checkHappyNumber()     \n",
    "                \n",
    "            \n",
    "        \n",
    "    "
   ]
  },
  {
   "cell_type": "markdown",
   "id": "056ea19f",
   "metadata": {},
   "source": [
    "Write a Python Program to check if the number is Harshad Number ?"
   ]
  },
  {
   "cell_type": "code",
   "execution_count": 1,
   "id": "bf849724",
   "metadata": {},
   "outputs": [
    {
     "name": "stdout",
     "output_type": "stream",
     "text": [
      "Enter the number: 15\n",
      "The 15 is not Harshad Number\n"
     ]
    }
   ],
   "source": [
    "def checkHarshadNum():\n",
    "    number = (input('Enter the number: '))\n",
    "    sum = 0\n",
    "    for i in number:\n",
    "        sum += int(i)\n",
    "    if sum % int(i) == 0:\n",
    "        print(f'The {number} is Harshad Number')\n",
    "    else:\n",
    "        print(f'The {number} is not Harshad Number')\n",
    "        \n",
    "        \n",
    "checkHarshadNum()\n",
    "        "
   ]
  },
  {
   "cell_type": "markdown",
   "id": "c94f70e2",
   "metadata": {},
   "source": [
    "Write a Python program to print all Harshad Number between 1 to 100?"
   ]
  },
  {
   "cell_type": "code",
   "execution_count": 2,
   "id": "e13ef11f",
   "metadata": {},
   "outputs": [
    {
     "name": "stdout",
     "output_type": "stream",
     "text": [
      "[0, 2, 6, 12, 20, 30, 42, 56, 72, 90, 110, 132, 156, 182, 210, 240, 272, 306, 342, 380, 420, 462, 506, 552, 600, 650, 702, 756, 812, 870, 930, 992, 1056, 1122, 1190, 1260, 1332, 1406, 1482, 1560, 1640, 1722, 1806, 1892, 1980, 2070, 2162, 2256, 2352, 2450, 2550, 2652, 2756, 2862, 2970, 3080, 3192, 3306, 3422, 3540, 3660, 3782, 3906, 4032, 4160, 4290, 4422, 4556, 4692, 4830, 4970, 5112, 5256, 5402, 5550, 5700, 5852, 6006, 6162, 6320, 6480, 6642, 6806, 6972, 7140, 7310, 7482, 7656, 7832, 8010, 8190, 8372, 8556, 8742, 8930, 9120, 9312, 9506, 9702, 9900]\n"
     ]
    }
   ],
   "source": [
    "def checkPronicNumbre(start,end):\n",
    "    output = []\n",
    "    for i in range(start,end):\n",
    "        output.append((i)*(i+1))\n",
    "    print(output)\n",
    "    \n",
    "checkPronicNumbre(0,100)\n",
    "        "
   ]
  }
 ],
 "metadata": {
  "kernelspec": {
   "display_name": "Python 3 (ipykernel)",
   "language": "python",
   "name": "python3"
  },
  "language_info": {
   "codemirror_mode": {
    "name": "ipython",
    "version": 3
   },
   "file_extension": ".py",
   "mimetype": "text/x-python",
   "name": "python",
   "nbconvert_exporter": "python",
   "pygments_lexer": "ipython3",
   "version": "3.9.7"
  }
 },
 "nbformat": 4,
 "nbformat_minor": 5
}
