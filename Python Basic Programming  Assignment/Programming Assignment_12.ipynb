{
 "cells": [
  {
   "cell_type": "markdown",
   "id": "8c2799b5",
   "metadata": {},
   "source": [
    "1.Write a Python program to Extract Unique values dictionary values?"
   ]
  },
  {
   "cell_type": "code",
   "execution_count": 11,
   "id": "80c0af80",
   "metadata": {},
   "outputs": [
    {
     "name": "stdout",
     "output_type": "stream",
     "text": [
      "Unique Values : ['Kedarnath', 'Badrinath', 'somanth']\n"
     ]
    }
   ],
   "source": [
    "def findUniqueValue():\n",
    "    my_dict = {1:'Kedarnath',2:'somanth',3:'Badrinath',4:'Kedarnath'}\n",
    "    print(f'Unique Values : {list(set(my_dict.values()))}')\n",
    "findUniqueValue()"
   ]
  },
  {
   "cell_type": "markdown",
   "id": "dee8a392",
   "metadata": {},
   "source": [
    "2.Write a Python program to find the sum of all items in a dictionary?"
   ]
  },
  {
   "cell_type": "code",
   "execution_count": 31,
   "id": "de3abc54",
   "metadata": {},
   "outputs": [
    {
     "name": "stdout",
     "output_type": "stream",
     "text": [
      "Sum of all items : 2600\n"
     ]
    }
   ],
   "source": [
    "def findSumOfItem():\n",
    "    my_dict = {'iphone':1000,'Samsung':800,'Iqoo':500,'One plus' : 300}\n",
    "    print(f'Sum of all items : {sum(my_dict.values())}')\n",
    "\n",
    "    \n",
    "    \n",
    "findSumOfItem()"
   ]
  },
  {
   "cell_type": "markdown",
   "id": "003b0019",
   "metadata": {},
   "source": [
    "3.Write a Python program to Merging two Dictionaries?"
   ]
  },
  {
   "cell_type": "code",
   "execution_count": 39,
   "id": "866f2fe9",
   "metadata": {},
   "outputs": [
    {
     "name": "stdout",
     "output_type": "stream",
     "text": [
      "{'course_name': 'Machine learning', 'Org': 'Ineuron'}\n"
     ]
    }
   ],
   "source": [
    "course_details = {\n",
    "    \"course_name\" : 'Machine learning'\n",
    "}\n",
    "org_details = {\n",
    "    'Org': 'Ineuron'\n",
    "}\n",
    "course_details.update(org_details)\n",
    "print(course_details)"
   ]
  },
  {
   "cell_type": "markdown",
   "id": "10851670",
   "metadata": {},
   "source": [
    "4.Write a Python program to convert key-values list to flat dictionary?"
   ]
  },
  {
   "cell_type": "code",
   "execution_count": 16,
   "id": "84faacb9",
   "metadata": {},
   "outputs": [
    {
     "name": "stdout",
     "output_type": "stream",
     "text": [
      "{'MVP_1': 2017, 'MVP_2': 2018, 'MVP_3': 2019, 'MVP_4': 2020, 'MVP_5': 2021}\n"
     ]
    }
   ],
   "source": [
    "my_list = [('MVP_1',2017),(\"MVP_2\",2018),(\"MVP_3\",2019),(\"MVP_4\",2020),(\"MVP_5\",2021)]\n",
    "# print(dict(my_list))\n",
    "my_dict = {}\n",
    "for ele in my_list:\n",
    "    my_dict[ele[0]] = ele[1]\n",
    "print(my_dict)\n",
    "    \n",
    " \n"
   ]
  },
  {
   "cell_type": "markdown",
   "id": "4aac6739",
   "metadata": {},
   "source": [
    "5.Write a Python program to insertion at the beginning in OrderedDict?"
   ]
  },
  {
   "cell_type": "code",
   "execution_count": 35,
   "id": "7f16ff9e",
   "metadata": {},
   "outputs": [
    {
     "name": "stdout",
     "output_type": "stream",
     "text": [
      "dict : OrderedDict([('Google', 'chrome'), ('Apple', 'iphone'), ('Tesla', 'spacex')])\n",
      "dict : OrderedDict([('Tesla', 'spacex'), ('Google', 'chrome'), ('Apple', 'iphone')])\n"
     ]
    }
   ],
   "source": [
    "from collections import OrderedDict\n",
    "org_dict = OrderedDict({'Google':'chrome','Apple':'iphone'})\n",
    "new_dict = {'Tesla' : 'spacex'}\n",
    "org_dict.update(new_dict)\n",
    "print(f'dict : {org_dict}')\n",
    "org_dict.move_to_end('Tesla',last=False)\n",
    "print(f'dict : {org_dict}')"
   ]
  },
  {
   "cell_type": "markdown",
   "id": "b807ed6e",
   "metadata": {},
   "source": [
    "6.Write a Python program to check order of character in string using OrderedDict()?"
   ]
  },
  {
   "cell_type": "code",
   "execution_count": 53,
   "id": "a5887eae",
   "metadata": {},
   "outputs": [
    {
     "name": "stdout",
     "output_type": "stream",
     "text": [
      "OrderedDict([('a', 1), ('b', 2), ('c', 3), ('d', 4), ('e', 5), ('f', 6)])\n"
     ]
    }
   ],
   "source": [
    "from collections import OrderedDict\n",
    "my_dict = {'a':1,'d':4,'f':6,'e':5,'b':2,'c':3}\n",
    "\n",
    "final_dict = OrderedDict((sorted(my_dict.items())))\n",
    "print(final_dict)"
   ]
  },
  {
   "cell_type": "markdown",
   "id": "6af31448",
   "metadata": {},
   "source": [
    "7.Write a Python program to sort Python Dictionaries by Key or Value?"
   ]
  },
  {
   "cell_type": "code",
   "execution_count": 3,
   "id": "c693f894",
   "metadata": {},
   "outputs": [
    {
     "name": "stdout",
     "output_type": "stream",
     "text": [
      "[('Apple', 60), ('Banana', 12), ('Mango', 90), ('Orange', 34)]\n",
      "[('Banana', 12), ('Orange', 34), ('Apple', 60), ('Mango', 90)]\n"
     ]
    }
   ],
   "source": [
    "dict_items = {'Mango':90,'Banana':12,'Apple':60,'Orange':34}\n",
    "def sort_dict(your_dict,sort_type):\n",
    "    if sort_type == 'key':\n",
    "        \n",
    "        print(sorted(your_dict.items()))\n",
    "    else:\n",
    "        print(sorted(your_dict.items(), key=lambda a:a[1]))\n",
    "\n",
    "sort_dict(dict_items,'key')\n",
    "sort_dict(dict_items,'value')"
   ]
  }
 ],
 "metadata": {
  "kernelspec": {
   "display_name": "Python 3 (ipykernel)",
   "language": "python",
   "name": "python3"
  },
  "language_info": {
   "codemirror_mode": {
    "name": "ipython",
    "version": 3
   },
   "file_extension": ".py",
   "mimetype": "text/x-python",
   "name": "python",
   "nbconvert_exporter": "python",
   "pygments_lexer": "ipython3",
   "version": "3.9.7"
  }
 },
 "nbformat": 4,
 "nbformat_minor": 5
}
