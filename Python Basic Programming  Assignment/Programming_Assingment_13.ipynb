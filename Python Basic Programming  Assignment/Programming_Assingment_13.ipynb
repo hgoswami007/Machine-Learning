{
 "cells": [
  {
   "cell_type": "markdown",
   "id": "ba41f047",
   "metadata": {},
   "source": [
    "1.Write a program that calculates and prints the value according to the given formula:\n",
    "\n",
    "Q = Square root of [(2 * C * D)/H]\n",
    "\n",
    "Following are the fixed values of C and H:\n",
    "C is 50. H is 30.\n",
    "D is the variable whose values should be input to your program in a comma-separated sequence.\n",
    "Example: Let us assume the following comma separated input sequence is given to the program:100,150,180\n",
    "\n",
    "The output of the program should be: 18,22,24"
   ]
  },
  {
   "cell_type": "code",
   "execution_count": 11,
   "id": "de0a0307",
   "metadata": {},
   "outputs": [
    {
     "name": "stdout",
     "output_type": "stream",
     "text": [
      "Enter the value of D: 100,150,180\n",
      "Output : 18, 22, 24\n"
     ]
    }
   ],
   "source": [
    "import math\n",
    "def calculateAnswer():\n",
    "    D = eval(input('Enter the value of D: '))\n",
    "    C = 50\n",
    "    H = 30\n",
    "    output =  []\n",
    "    for i in (D):\n",
    "        formula = math.sqrt((2*C*i)/H)\n",
    "        output.append(str(int(formula)))\n",
    "    print('Output : {}'.format(', '.join(output)))\n",
    "    \n",
    "    \n",
    "calculateAnswer()"
   ]
  },
  {
   "cell_type": "markdown",
   "id": "4abe1488",
   "metadata": {},
   "source": [
    "2.Write a program which takes 2 digits, X,Y as input and generates a 2-dimensional array. The element value in the i-th row and j-th column of the array should be i*j.\n",
    "\n",
    "Note: i=0,1.., X-1; j=0,1,¡Y-1.\n",
    "\n",
    "Example: Suppose the following inputs are given to the program: 3,5\n",
    "\n",
    "Then, the output of the program should be:[[0, 0, 0, 0, 0], [0, 1, 2, 3, 4], [0, 2, 4, 6, 8]]"
   ]
  },
  {
   "cell_type": "code",
   "execution_count": 19,
   "id": "c4c5cfc4",
   "metadata": {},
   "outputs": [
    {
     "name": "stdout",
     "output_type": "stream",
     "text": [
      "Enter the Number Rows: 3\n",
      "Enter the Number Columns: 5\n",
      "[[0, 0, 0, 0, 0], [0, 1, 2, 3, 4], [0, 2, 4, 6, 8]]\n"
     ]
    }
   ],
   "source": [
    "\n",
    "\n",
    "def generateArray():\n",
    "    x = int(input('Enter the Number Rows: '))\n",
    "    y = int(input('Enter the Number Columns: '))\n",
    "    output_array = []\n",
    "    \n",
    "    for ele in range(x):\n",
    "        output_array.insert(ele,[])\n",
    "        for sub_ele in range(y):\n",
    "            output_array[ele].append(ele*sub_ele)\n",
    "        \n",
    "    print(output_array)\n",
    "    \n",
    "generateArray()\n",
    "    \n",
    "        \n",
    "    \n",
    "    "
   ]
  },
  {
   "cell_type": "markdown",
   "id": "ad05eb4f",
   "metadata": {},
   "source": [
    "3.Write a program that accepts a comma separated sequence of words as input and prints the words in a comma-separated sequence after sorting them alphabetically ?\n",
    "\n",
    "Suppose the following input is supplied to the program: without,hello,bag,world\n",
    "\n",
    "Then, the output should be: bag,hello,without,world\n"
   ]
  },
  {
   "cell_type": "code",
   "execution_count": 32,
   "id": "3d0235c7",
   "metadata": {},
   "outputs": [
    {
     "name": "stdout",
     "output_type": "stream",
     "text": [
      "Enter the words: without,hello,bag,world\n",
      "bag,hello,without,world\n"
     ]
    }
   ],
   "source": [
    "def sortingWord():\n",
    "    words = input('Enter the words: ')\n",
    "    output = ','.join(sorted(words.split(',')))\n",
    "    print(output)\n",
    "    \n",
    "sortingWord()"
   ]
  },
  {
   "cell_type": "markdown",
   "id": "c65d2060",
   "metadata": {},
   "source": [
    "4.Write a program that accepts a sequence of whitespace separated words as input and prints the words after removing all duplicate words and sorting them alphanumerically.\n",
    "\n",
    "Suppose the following input is supplied to the program: `hello world and practice makes perfect and hello world again`\n",
    "Then, \n",
    "the output should be: `again and hello makes perfect practice world`\n",
    "\n"
   ]
  },
  {
   "cell_type": "code",
   "execution_count": 47,
   "id": "294d12d3",
   "metadata": {},
   "outputs": [
    {
     "name": "stdout",
     "output_type": "stream",
     "text": [
      "Enter the string: hello world and practice makes perfect and hello world again\n",
      "Output is : again and hello makes perfect practice world\n"
     ]
    }
   ],
   "source": [
    "def sortAlphanumeric():\n",
    "    string_in = input('Enter the string: ')\n",
    "    out_string = ' '.join(sorted(list(set(string_in.split(' ')))))\n",
    "    print(f'Output is : {out_string}')\n",
    "\n",
    "    \n",
    "sortAlphanumeric()"
   ]
  },
  {
   "cell_type": "markdown",
   "id": "b841829d",
   "metadata": {},
   "source": [
    "5.Write a program that accepts a sentence and calculate the number of letters and digits.\n",
    "Suppose the following input is supplied to the program: `hello world! 123`\n",
    "\n",
    "Then, the output should be:\n",
    "\n",
    "`LETTERS 10`\n",
    "\n",
    "`DIGITS 3`"
   ]
  },
  {
   "cell_type": "code",
   "execution_count": 52,
   "id": "f9c45afe",
   "metadata": {},
   "outputs": [
    {
     "name": "stdout",
     "output_type": "stream",
     "text": [
      "Enter a sentence: hello world! 123\n",
      "LETTERS 10  \n",
      "DIGITS 3\n"
     ]
    }
   ],
   "source": [
    "def countLetterAndDigits():\n",
    "    string_in = input('Enter a sentence: ')\n",
    "    letter=digit=0\n",
    "    for ele in string_in:\n",
    "        if ele.isdigit() == True:\n",
    "            digit = digit + 1\n",
    "        elif ele.isalpha():\n",
    "            letter = letter + 1\n",
    "    print(f'LETTERS {letter}  \\nDIGITS {digit}')\n",
    "    \n",
    "countLetterAndDigits()"
   ]
  },
  {
   "cell_type": "markdown",
   "id": "90fb61a4",
   "metadata": {},
   "source": [
    "### 6.A website requires the users to input username and password to register. Write a program to check the validity of password input by users.\n",
    "Following are the criteria for checking the password:\n",
    "\n",
    "At least 1 letter between [a-z]\n",
    "\n",
    "At least 1 number between [0-9]\n",
    "\n",
    "At least 1 letter between [A-Z]\n",
    "\n",
    "At least 1 character from [$#@]\n",
    "\n",
    "Minimum length of transaction password: 6\n",
    "\n",
    "Maximum length of transaction password: 12\n",
    "\n",
    "Your program should accept a sequence of comma separated passwords and will check them according to the above criteria. Passwords that match the criteria are to be printed, each separated by a comma.\n",
    "\n",
    "Example:\n",
    "If the following passwords are given as input to the program: ABd1234@1,a F1#,2w3E*,2We3345\n",
    "Then, the output of the program should be:ABd1234@1"
   ]
  },
  {
   "cell_type": "code",
   "execution_count": 103,
   "id": "de7e1a0c",
   "metadata": {},
   "outputs": [
    {
     "name": "stdout",
     "output_type": "stream",
     "text": [
      "Enter the Input String: ABd1234@1,a F1#,2w3E*,2We3345\n",
      "ABd1234@1\n"
     ]
    }
   ],
   "source": [
    "def checkPassword():\n",
    "    in_string = input(\"Enter the Input String: \")\n",
    "#     small_list = \"abcdefghijklmnopqrstuvwxyz\"\n",
    "#     cap_list = \"ABCDEFGHIJKLMNOPQRSTUVWXYZ\"\n",
    "#     num_list = \"0123456789\"\n",
    "    special_list = \"$#@\"\n",
    "    for ele in in_string.split(\",\"):\n",
    "        if len(ele) <= 12 and len(ele) >=6 :\n",
    "            if any(i.isupper() for i in ele):\n",
    "                if any(i.islower() for i in ele):\n",
    "                    if any(i for i in ele if i in special_list):\n",
    "                        print(ele)\n",
    "                               \n",
    "checkPassword() "
   ]
  }
 ],
 "metadata": {
  "kernelspec": {
   "display_name": "Python 3 (ipykernel)",
   "language": "python",
   "name": "python3"
  },
  "language_info": {
   "codemirror_mode": {
    "name": "ipython",
    "version": 3
   },
   "file_extension": ".py",
   "mimetype": "text/x-python",
   "name": "python",
   "nbconvert_exporter": "python",
   "pygments_lexer": "ipython3",
   "version": "3.9.7"
  }
 },
 "nbformat": 4,
 "nbformat_minor": 5
}
