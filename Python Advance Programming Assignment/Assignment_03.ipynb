{
 "cells": [
  {
   "cell_type": "code",
   "execution_count": null,
   "id": "f83a3be3",
   "metadata": {},
   "outputs": [],
   "source": []
  },
  {
   "cell_type": "code",
   "execution_count": 17,
   "id": "25d26d36",
   "metadata": {},
   "outputs": [
    {
     "name": "stdout",
     "output_type": "stream",
     "text": [
      "arithmetic_operation(12 + 12) -> 24\n",
      "arithmetic_operation(12 - 12) -> 0\n",
      "arithmetic_operation(12 * 12) -> 144\n",
      "arithmetic_operation(12 // 0) -> -1\n"
     ]
    }
   ],
   "source": [
    "import operator\n",
    "\n",
    "ops = {'+':operator.add, '-':operator.sub,'*':operator.mul,'//':operator.floordiv}\n",
    "\n",
    "def arithmetic_operation(string_in):\n",
    "    data = string_in.split(\" \")\n",
    "    if int(data[2]) == 0:\n",
    "        output = -1\n",
    "    else:\n",
    "        output = ops[data[1]](int(data[0]),int(data[2]))\n",
    "    print(f'arithmetic_operation({string_in}) -> {output}')\n",
    "                                        \n",
    "    \n",
    "    \n",
    "arithmetic_operation(\"12 + 12\")\n",
    "arithmetic_operation(\"12 - 12\")\n",
    "arithmetic_operation(\"12 * 12\")\n",
    "arithmetic_operation(\"12 // 0\")\n",
    "    "
   ]
  },
  {
   "cell_type": "code",
   "execution_count": null,
   "id": "3017dd02",
   "metadata": {},
   "outputs": [],
   "source": []
  },
  {
   "cell_type": "code",
   "execution_count": 1,
   "id": "c73056b4",
   "metadata": {},
   "outputs": [],
   "source": [
    "import math"
   ]
  },
  {
   "cell_type": "code",
   "execution_count": 24,
   "id": "9a59d245",
   "metadata": {},
   "outputs": [],
   "source": [
    "def dec(a,b):\n",
    "    return math.sqrt(pow((b[1]-a[1]),2)+pow((b[0]-a[0]),2))"
   ]
  },
  {
   "cell_type": "code",
   "execution_count": 28,
   "id": "6830d26c",
   "metadata": {},
   "outputs": [
    {
     "name": "stdout",
     "output_type": "stream",
     "text": [
      "perimeter ([[15, 7], [5, 22], [11, 1]]) -> 47.08\n",
      "perimeter ([[0, 0], [0, 1], [1, 0]]) -> 3.41\n",
      "perimeter ([[-10, -10], [10, 10], [-10, 10]]) -> 68.28\n"
     ]
    }
   ],
   "source": [
    "def dec(a,b):\n",
    "    return math.sqrt(pow((b[1]-a[1]),2)+pow((b[0]-a[0]),2))\n",
    "\n",
    "def perimeter(array_list):\n",
    "    perimeter = []\n",
    "    for i in range(len(array_list)):\n",
    "        if i == len(array_list) -1:\n",
    "            perimeter.append(dec(array_list[i],array_list[0]))\n",
    "        else:\n",
    "            perimeter.append(dec(array_list[i],array_list[i+1]))\n",
    "    \n",
    "    print(f'perimeter ({array_list}) -> {sum(perimeter):.2f}')\n",
    "            \n",
    "        \n",
    "            \n",
    "perimeter([[15,7],[5,22],[11,1]])\n",
    "perimeter([[0,0],[0,1],[1,0]])\n",
    "perimeter([[-10,-10],[10,10],[-10,10]])"
   ]
  },
  {
   "cell_type": "code",
   "execution_count": null,
   "id": "3cdfdf0a",
   "metadata": {},
   "outputs": [],
   "source": []
  },
  {
   "cell_type": "code",
   "execution_count": 53,
   "id": "dea4c946",
   "metadata": {},
   "outputs": [
    {
     "name": "stdout",
     "output_type": "stream",
     "text": [
      "tallest skyliner ([[0, 0, 0, 0], [0, 1, 0, 0], [0, 1, 1, 0], [1, 1, 1, 1]]) -> 3\n",
      "tallest skyliner ([[0, 1, 0, 0], [0, 1, 0, 0], [0, 1, 1, 0], [1, 1, 1, 1]]) -> 4\n",
      "tallest skyliner ([[0, 0, 0, 0], [0, 0, 0, 0], [0, 1, 1, 0], [1, 1, 1, 1]]) -> 2\n"
     ]
    }
   ],
   "source": [
    "def tallest_skyliner(list_in):\n",
    "    count = 0\n",
    "    for i in list_in:\n",
    "        count += i[1]\n",
    "    print(f'tallest skyliner ({list_in}) -> {count}')\n",
    "        \n",
    "tallest_skyliner([[0,0,0,0],[0,1,0,0],[0,1,1,0],[1,1,1,1]])\n",
    "tallest_skyliner([[0,1,0,0],[0,1,0,0],[0,1,1,0],[1,1,1,1]])\n",
    "tallest_skyliner([[0,0,0,0],[0,0,0,0],[0,1,1,0],[1,1,1,1]])"
   ]
  },
  {
   "cell_type": "code",
   "execution_count": null,
   "id": "1aca2e77",
   "metadata": {},
   "outputs": [],
   "source": []
  },
  {
   "cell_type": "code",
   "execution_count": 58,
   "id": "17884db7",
   "metadata": {},
   "outputs": [
    {
     "name": "stdout",
     "output_type": "stream",
     "text": [
      "bonus(15) -> 0\n",
      "bonus(37) -> 1625\n",
      "bonus(50) -> 8200\n"
     ]
    }
   ],
   "source": [
    "def bonos(num):\n",
    "    if num > 48:\n",
    "        output = 0 + (8*325) + (8 *550) + ((num-48)*600)\n",
    "    elif num >= 41 and num < 48:\n",
    "        output = 0 + (8*325) + ((num-41+1) *550)\n",
    "    elif num >=33 and num < 40:\n",
    "        output = 0 + ((num-33+1)*325)\n",
    "    else:\n",
    "        output = 0\n",
    "        \n",
    "    print(f'bonus({num}) -> {output}')\n",
    "    \n",
    "bonos(15)\n",
    "bonos(37)\n",
    "bonos(50)\n",
    "    "
   ]
  },
  {
   "cell_type": "code",
   "execution_count": null,
   "id": "fdc3f372",
   "metadata": {},
   "outputs": [],
   "source": []
  },
  {
   "cell_type": "code",
   "execution_count": 81,
   "id": "77518d93",
   "metadata": {},
   "outputs": [
    {
     "name": "stdout",
     "output_type": "stream",
     "text": [
      "is_disarium(75) -> False\n",
      "is_disarium(135) -> True\n",
      "is_disarium(544) -> False\n",
      "is_disarium(518) -> True\n",
      "is_disarium(466) -> False\n",
      "is_disarium(8) -> True\n"
     ]
    }
   ],
   "source": [
    "def disarium(num):\n",
    "    num_sum = 0\n",
    "    output = False\n",
    "    for i in range(len(str(num))):\n",
    "        num_sum += int(str(num)[i])**(i+1)\n",
    "    if num_sum == num:\n",
    "        output = True\n",
    "    print(f'is_disarium({num}) -> {output}')\n",
    "        \n",
    "disarium(75)\n",
    "disarium(135)\n",
    "disarium(544)\n",
    "disarium(518)\n",
    "disarium(466)\n",
    "disarium(8)"
   ]
  },
  {
   "cell_type": "code",
   "execution_count": null,
   "id": "0ed38607",
   "metadata": {},
   "outputs": [],
   "source": []
  }
 ],
 "metadata": {
  "kernelspec": {
   "display_name": "Python 3 (ipykernel)",
   "language": "python",
   "name": "python3"
  },
  "language_info": {
   "codemirror_mode": {
    "name": "ipython",
    "version": 3
   },
   "file_extension": ".py",
   "mimetype": "text/x-python",
   "name": "python",
   "nbconvert_exporter": "python",
   "pygments_lexer": "ipython3",
   "version": "3.9.7"
  }
 },
 "nbformat": 4,
 "nbformat_minor": 5
}
