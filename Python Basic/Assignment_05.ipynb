{
 "cells": [
  {
   "cell_type": "markdown",
   "id": "5ab6c7e1",
   "metadata": {},
   "source": [
    "**1.What does an empty dictionary's code look like?**"
   ]
  },
  {
   "cell_type": "markdown",
   "id": "bf3a5291",
   "metadata": {},
   "source": [
    "**ANS.** The empty dictionary's code often represented by by two empty curly brackets look like `d = {}` or `dict()`"
   ]
  },
  {
   "cell_type": "markdown",
   "id": "edcd40f0",
   "metadata": {},
   "source": [
    "**2.what is the value of dictionary value with key 'foo' and the value 42 ?**"
   ]
  },
  {
   "cell_type": "markdown",
   "id": "642b27e6",
   "metadata": {},
   "source": [
    "**ANS.** `{\"foo\" : 42}`"
   ]
  },
  {
   "cell_type": "markdown",
   "id": "1f69ad39",
   "metadata": {},
   "source": [
    "3.What is the most significant distinction between a dictionary and a list?"
   ]
  },
  {
   "cell_type": "markdown",
   "id": "3e769237",
   "metadata": {},
   "source": [
    "**ANS**. Dictionaries are represented by `{}` and lists are represented by `[]`\n",
    "The item stored in dictionary is Unordered, while the item stored in list is ordered."
   ]
  },
  {
   "cell_type": "markdown",
   "id": "57602c4a",
   "metadata": {},
   "source": [
    "**4.What happens if you try to access spam ['foo'] if spam is {'bar':100} ?**\n"
   ]
  },
  {
   "cell_type": "markdown",
   "id": "43a86a1b",
   "metadata": {},
   "source": [
    "**ANS.** We will get a `keyError: 'foo'`"
   ]
  },
  {
   "cell_type": "markdown",
   "id": "76d16995",
   "metadata": {},
   "source": [
    "**5.if a dictionary is stored in spam,what is the difference between the expressions 'cat' in spam and 'cat' in spam.keys() ?**"
   ]
  },
  {
   "cell_type": "markdown",
   "id": "dfd68186",
   "metadata": {},
   "source": [
    "**ANS.** There is no difference, the operator check wheather value exits as a key in dictionary or not."
   ]
  },
  {
   "cell_type": "markdown",
   "id": "1999845f",
   "metadata": {},
   "source": [
    "**6.if a dictionary is stored in spam,what is the difference between the expressions 'cat' in spam and 'cat' in spam.values() ?**"
   ]
  },
  {
   "cell_type": "markdown",
   "id": "b327a781",
   "metadata": {},
   "source": [
    "**ANS.** `cat` in spam checks wheather there is a cat key in the dictionary, while `spam.values()` checks whether there is a value 'cat' for one of the key in spam."
   ]
  },
  {
   "cell_type": "markdown",
   "id": "ff3346b5",
   "metadata": {},
   "source": [
    "**7.what is a shortcut for the following code ?**\n",
    "\n",
    "`if 'color' not in spam: spam['color'] ='black'`"
   ]
  },
  {
   "cell_type": "markdown",
   "id": "f23a66e9",
   "metadata": {},
   "source": [
    "**ANS.** `spam.setdefault('color','black')`"
   ]
  },
  {
   "cell_type": "markdown",
   "id": "0dbf3eea",
   "metadata": {},
   "source": [
    "**8.How do you 'pretty print' dictionary values using which modules and function ?**"
   ]
  },
  {
   "cell_type": "code",
   "execution_count": 22,
   "id": "8784f9cd",
   "metadata": {},
   "outputs": [
    {
     "name": "stdout",
     "output_type": "stream",
     "text": [
      "Printing using print() function\n",
      " [{'Name': 'John', 'Age': '23', 'Residence': {'Country': 'USA', 'City': 'New York'}}, {'Name': 'Jose', 'Age': '44', 'Residence': {'Country': 'Spain', 'City': 'Madrid'}}, {'Name': 'Anne', 'Age': '29', 'Residence': {'Country': 'UK', 'City': 'England'}}, {'Name': 'Lee', 'Age': '35', 'Residence': {'Country': 'Japan', 'City': 'Osaka'}}]\n",
      "======================================================================\n",
      "Printing using pprint() funciton\n",
      "[{'Age': '23',\n",
      "  'Name': 'John',\n",
      "  'Residence': {'City': 'New York', 'Country': 'USA'}},\n",
      " {'Age': '44',\n",
      "  'Name': 'Jose',\n",
      "  'Residence': {'City': 'Madrid', 'Country': 'Spain'}},\n",
      " {'Age': '29',\n",
      "  'Name': 'Anne',\n",
      "  'Residence': {'City': 'England', 'Country': 'UK'}},\n",
      " {'Age': '35',\n",
      "  'Name': 'Lee',\n",
      "  'Residence': {'City': 'Osaka', 'Country': 'Japan'}}]\n",
      "======================================================================\n",
      "print using json function\n",
      " [\n",
      "    {\n",
      "        \"Name\": \"John\",\n",
      "        \"Age\": \"23\",\n",
      "        \"Residence\": {\n",
      "            \"Country\": \"USA\",\n",
      "            \"City\": \"New York\"\n",
      "        }\n",
      "    },\n",
      "    {\n",
      "        \"Name\": \"Jose\",\n",
      "        \"Age\": \"44\",\n",
      "        \"Residence\": {\n",
      "            \"Country\": \"Spain\",\n",
      "            \"City\": \"Madrid\"\n",
      "        }\n",
      "    },\n",
      "    {\n",
      "        \"Name\": \"Anne\",\n",
      "        \"Age\": \"29\",\n",
      "        \"Residence\": {\n",
      "            \"Country\": \"UK\",\n",
      "            \"City\": \"England\"\n",
      "        }\n",
      "    },\n",
      "    {\n",
      "        \"Name\": \"Lee\",\n",
      "        \"Age\": \"35\",\n",
      "        \"Residence\": {\n",
      "            \"Country\": \"Japan\",\n",
      "            \"City\": \"Osaka\"\n",
      "        }\n",
      "    }\n",
      "]\n",
      "======================================================================\n",
      "print using yaml function dump() method\n",
      " - Age: '23'\n",
      "  Name: John\n",
      "  Residence:\n",
      "    City: New York\n",
      "    Country: USA\n",
      "- Age: '44'\n",
      "  Name: Jose\n",
      "  Residence:\n",
      "    City: Madrid\n",
      "    Country: Spain\n",
      "- Age: '29'\n",
      "  Name: Anne\n",
      "  Residence:\n",
      "    City: England\n",
      "    Country: UK\n",
      "- Age: '35'\n",
      "  Name: Lee\n",
      "  Residence:\n",
      "    City: Osaka\n",
      "    Country: Japan\n",
      "\n"
     ]
    }
   ],
   "source": [
    "\n",
    "ndict = [{'Name': 'John', 'Age': '23', 'Residence': {'Country':'USA', 'City': 'New York'}},\n",
    "  {'Name': 'Jose', 'Age': '44', 'Residence': {'Country':'Spain', 'City': 'Madrid'}},\n",
    "  {'Name': 'Anne', 'Age': '29', 'Residence': {'Country':'UK', 'City': 'England'}},\n",
    "  {'Name': 'Lee', 'Age': '35', 'Residence': {'Country':'Japan', 'City': 'Osaka'}}]\n",
    "\n",
    "print('Printing using print() function\\n',ndict)\n",
    "print('='*70)\n",
    "import pprint\n",
    "print('Printing using pprint() funciton')\n",
    "pprint.pprint(ndict)\n",
    "print('='*70)\n",
    "import json\n",
    "dump = json.dumps(ndict,indent=4)\n",
    "print('print using json function\\n',dump)\n",
    "print('='*70)\n",
    "import yaml\n",
    "dump = yaml.dump(ndict)\n",
    "print('print using yaml function dump() method\\n',dump)"
   ]
  },
  {
   "cell_type": "markdown",
   "id": "184fce2f",
   "metadata": {},
   "source": []
  },
  {
   "cell_type": "markdown",
   "id": "f2b6480a",
   "metadata": {},
   "source": []
  }
 ],
 "metadata": {
  "kernelspec": {
   "display_name": "Python 3 (ipykernel)",
   "language": "python",
   "name": "python3"
  },
  "language_info": {
   "codemirror_mode": {
    "name": "ipython",
    "version": 3
   },
   "file_extension": ".py",
   "mimetype": "text/x-python",
   "name": "python",
   "nbconvert_exporter": "python",
   "pygments_lexer": "ipython3",
   "version": "3.10.9"
  }
 },
 "nbformat": 4,
 "nbformat_minor": 5
}
