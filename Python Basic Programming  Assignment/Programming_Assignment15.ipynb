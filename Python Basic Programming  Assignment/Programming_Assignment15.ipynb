{
 "cells": [
  {
   "cell_type": "markdown",
   "id": "da36ef15",
   "metadata": {},
   "source": [
    "### 1.Please write a program using generator to print the numbers which can be divisible by 5 and 7 between 0 and n in comma separated form while n is input by console.\n",
    "\n",
    "Example:\n",
    "If the following n is given as input to the program: 100\n",
    "\n",
    "Then, the output of the program should be: 0,35,70"
   ]
  },
  {
   "cell_type": "code",
   "execution_count": 7,
   "id": "cab8c5c9",
   "metadata": {},
   "outputs": [
    {
     "name": "stdout",
     "output_type": "stream",
     "text": [
      "0,35,70,"
     ]
    }
   ],
   "source": [
    "def number_division(n):\n",
    "    for number in range(0,n):\n",
    "        if number%5==0 and number%7==0:\n",
    "            yield (number)\n",
    "    \n",
    "for ele in number_division(100):\n",
    "    print(ele,end=',')"
   ]
  },
  {
   "cell_type": "markdown",
   "id": "6905b0d6",
   "metadata": {},
   "source": [
    "### 2. Please write a program using generator to print the even numbers between 0 and n in comma separated form while n is input by console.\n",
    "\n",
    "Example:\n",
    "If the following n is given as input to the program: 10\n",
    "Then, the output of the program should be: 0,2,4,6,8,10"
   ]
  },
  {
   "cell_type": "code",
   "execution_count": 14,
   "id": "8f397833",
   "metadata": {},
   "outputs": [
    {
     "name": "stdout",
     "output_type": "stream",
     "text": [
      "Enter the Numebr: 10\n",
      "0 2 4 6 8 10 "
     ]
    }
   ],
   "source": [
    "n = int(input('Enter the Numebr: '))\n",
    "def even_number(n):\n",
    "    for number in range(0,n+1):\n",
    "        if number%2==0:\n",
    "            yield number\n",
    "for number in even_number(n):\n",
    "    print(number,end=' ')\n",
    "    "
   ]
  },
  {
   "cell_type": "markdown",
   "id": "bae965ca",
   "metadata": {},
   "source": [
    "### 3. The Fibonacci Sequence is computed based on the following formula:\n",
    "f(n)=0 if n=0\n",
    "f(n)=1 if n=1\n",
    "f(n)=f(n-1)+f(n-2) if n>1\n",
    "Please write a program using list comprehension to print the Fibonacci Sequence in comma separated form with a given n input by console.\n",
    "\n",
    "Example:\n",
    "If the following n is given as input to the program:\n",
    "7\n",
    "\n",
    "Then, the output of the program should be:\n",
    "0,1,1,2,3,5,8,13"
   ]
  },
  {
   "cell_type": "code",
   "execution_count": 20,
   "id": "56567ace",
   "metadata": {},
   "outputs": [
    {
     "name": "stdout",
     "output_type": "stream",
     "text": [
      "Enter the input: 7\n",
      "[0, 1, 1, 2, 3, 5, 8, 13]\n"
     ]
    }
   ],
   "source": [
    "x = int(input('Enter the input: '))\n",
    "def fibonacci(n):\n",
    "    if n==0:\n",
    "        return 0\n",
    "    elif n==1:\n",
    "        return 1\n",
    "    else:\n",
    "        return fibonacci(n-1) + fibonacci(n-2)\n",
    "    \n",
    "print([fibonacci(x) for x in range(0,x+1)])\n"
   ]
  },
  {
   "cell_type": "markdown",
   "id": "0f626a65",
   "metadata": {},
   "source": [
    "### 4. Assuming that we have some email addresses in the \"username@companyname.com\" format, please write program to print the user name of a given email address. Both user names and company names are composed of letters only.\n",
    "Example:\n",
    "If the following email address is given as input to the program: john@google.com\n",
    "Then, the output of the program should be: john"
   ]
  },
  {
   "cell_type": "code",
   "execution_count": 28,
   "id": "19510d25",
   "metadata": {},
   "outputs": [
    {
     "name": "stdout",
     "output_type": "stream",
     "text": [
      "Enter Email address: john@google.com\n",
      "Output is : john\n"
     ]
    }
   ],
   "source": [
    "email = input('Enter Email address: ')\n",
    "def username(email):\n",
    "    user_name = email.split('@')\n",
    "    print(f'Output is : {user_name[0]}')\n",
    "username(email)"
   ]
  },
  {
   "cell_type": "markdown",
   "id": "5d53f226",
   "metadata": {},
   "source": [
    "### 5. Define a class named Shape and its subclass Square. The Square class has an init function which takes a length as argument. Both classes have a area function which can print the area of the shape where Shape's area is 0 by default."
   ]
  },
  {
   "cell_type": "code",
   "execution_count": 49,
   "id": "059dda4b",
   "metadata": {},
   "outputs": [],
   "source": [
    "class shape:\n",
    "    def area():\n",
    "        return 0\n",
    "class Square(shape):\n",
    "    def __init__(self,length):\n",
    "            self.length = length\n",
    "    def area(self):\n",
    "            return self.length * self.length\n",
    "            "
   ]
  },
  {
   "cell_type": "code",
   "execution_count": 53,
   "id": "02b33177",
   "metadata": {},
   "outputs": [
    {
     "name": "stdout",
     "output_type": "stream",
     "text": [
      "2500\n"
     ]
    }
   ],
   "source": [
    "square = Square(50)\n",
    "print(square.area())"
   ]
  }
 ],
 "metadata": {
  "kernelspec": {
   "display_name": "Python 3 (ipykernel)",
   "language": "python",
   "name": "python3"
  },
  "language_info": {
   "codemirror_mode": {
    "name": "ipython",
    "version": 3
   },
   "file_extension": ".py",
   "mimetype": "text/x-python",
   "name": "python",
   "nbconvert_exporter": "python",
   "pygments_lexer": "ipython3",
   "version": "3.9.7"
  }
 },
 "nbformat": 4,
 "nbformat_minor": 5
}
