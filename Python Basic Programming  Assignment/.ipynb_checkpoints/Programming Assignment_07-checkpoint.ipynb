{
 "cells": [
  {
   "cell_type": "markdown",
   "id": "50ad2a65",
   "metadata": {},
   "source": [
    "1.Write a Python Program to find sum of array?"
   ]
  },
  {
   "cell_type": "code",
   "execution_count": 3,
   "id": "8188cd2b",
   "metadata": {},
   "outputs": [
    {
     "name": "stdout",
     "output_type": "stream",
     "text": [
      "Enter the number of array1,2,3,4,5\n"
     ]
    },
    {
     "data": {
      "text/plain": [
       "'The sum of (1, 2, 3, 4, 5) is 15'"
      ]
     },
     "execution_count": 3,
     "metadata": {},
     "output_type": "execute_result"
    }
   ],
   "source": [
    "def sumOfArray():\n",
    "    arr = eval(input(\"Enter the number of array\"))\n",
    "    return f'The sum of {arr} is {sum(arr)}'\n",
    "\n",
    "    \n",
    "    \n",
    "sumOfArray()\n",
    "    "
   ]
  },
  {
   "cell_type": "markdown",
   "id": "7a7b0644",
   "metadata": {},
   "source": [
    "2.Write a Python Program to find largest element in an array?"
   ]
  },
  {
   "cell_type": "code",
   "execution_count": 10,
   "id": "3040ba3d",
   "metadata": {},
   "outputs": [
    {
     "name": "stdout",
     "output_type": "stream",
     "text": [
      "Enter the array: 1,2,34,67,78\n",
      "The largets number of array is 78\n"
     ]
    }
   ],
   "source": [
    "def largestNumber():\n",
    "    arr = eval(input('Enter the array: '))\n",
    "    result = sorted(arr,reverse=True)[0]\n",
    "    print(f'The largets number of array is {result}')\n",
    "    \n",
    "    \n",
    "    \n",
    "largestNumber()\n",
    "    "
   ]
  },
  {
   "cell_type": "markdown",
   "id": "211828b8",
   "metadata": {},
   "source": [
    "3.Write a Python Program for array rotation?"
   ]
  },
  {
   "cell_type": "code",
   "execution_count": 12,
   "id": "87f760da",
   "metadata": {},
   "outputs": [
    {
     "name": "stdout",
     "output_type": "stream",
     "text": [
      "Enter the array: 1,2,34,45,67\n",
      "The Rotation of array is : (67, 45, 34, 2, 1)\n"
     ]
    }
   ],
   "source": [
    "def arrayRotation():\n",
    "    arr = eval(input('Enter the array: '))\n",
    "    result = arr[::-1] ## we can use list(reversed(arr))\n",
    "    print(f'The Rotation of array is : {result}')\n",
    "    \n",
    "    \n",
    "    \n",
    "arrayRotation()\n",
    "    "
   ]
  },
  {
   "cell_type": "markdown",
   "id": "76b0cdd6",
   "metadata": {},
   "source": [
    "4.Write a Python Program to Split the array and add the first part to the end?"
   ]
  },
  {
   "cell_type": "code",
   "execution_count": 15,
   "id": "c16252c2",
   "metadata": {},
   "outputs": [
    {
     "name": "stdout",
     "output_type": "stream",
     "text": [
      "Enter the array: [1,3,34,45,78]\n",
      "The sum of first and last element of array is 79\n"
     ]
    }
   ],
   "source": [
    "def firstAddToEnd():\n",
    "    arr = eval(input('Enter the array: '))\n",
    "#     print(type(arr))\n",
    "    print(f'The sum of first and last element of array is {arr[0] + arr[-1]}')\n",
    "    \n",
    "\n",
    "firstAddToEnd()\n",
    "    "
   ]
  },
  {
   "cell_type": "markdown",
   "id": "7e7c7f9f",
   "metadata": {},
   "source": [
    "5.Write a Python Program to check if given array is Monotonic?"
   ]
  },
  {
   "cell_type": "code",
   "execution_count": 35,
   "id": "ea46aa96",
   "metadata": {},
   "outputs": [
    {
     "name": "stdout",
     "output_type": "stream",
     "text": [
      "Enter the array: [5,3,2,1]\n",
      "Array is monotinic\n"
     ]
    }
   ],
   "source": [
    "def isMonotic():\n",
    "    arr = eval(input('Enter the array: '))\n",
    "    inc = True\n",
    "    dec = True\n",
    "    \n",
    "    for i in range(len(arr)-1):\n",
    "        if (arr[i] <= arr[i+1]):\n",
    "            continue\n",
    "        else:\n",
    "            inc = False\n",
    "            break\n",
    "            \n",
    "    for i in range(len(arr)-1):\n",
    "        if (arr[i] >= arr[i+1]):\n",
    "            continue\n",
    "        else:\n",
    "            dec = False\n",
    "            break\n",
    "        \n",
    "            \n",
    "    if (inc == True) or (dec == True):\n",
    "        print(\"Array is monotinic\")\n",
    "    else:\n",
    "        print(\"Array is not monotinic\")\n",
    "    \n",
    "    \n",
    "        \n",
    "isMonotic()"
   ]
  },
  {
   "cell_type": "code",
   "execution_count": null,
   "id": "ed5b384e",
   "metadata": {},
   "outputs": [],
   "source": []
  }
 ],
 "metadata": {
  "kernelspec": {
   "display_name": "Python 3 (ipykernel)",
   "language": "python",
   "name": "python3"
  },
  "language_info": {
   "codemirror_mode": {
    "name": "ipython",
    "version": 3
   },
   "file_extension": ".py",
   "mimetype": "text/x-python",
   "name": "python",
   "nbconvert_exporter": "python",
   "pygments_lexer": "ipython3",
   "version": "3.10.9"
  }
 },
 "nbformat": 4,
 "nbformat_minor": 5
}
