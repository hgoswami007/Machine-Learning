{
 "cells": [
  {
   "cell_type": "markdown",
   "id": "f614864f",
   "metadata": {},
   "source": [
    "Write a Python Program to Display Fibonacci Sequence Using Recursion?"
   ]
  },
  {
   "cell_type": "code",
   "execution_count": 9,
   "id": "f2fa621f",
   "metadata": {},
   "outputs": [
    {
     "name": "stdout",
     "output_type": "stream",
     "text": [
      "0,1,3,5,8,13,"
     ]
    }
   ],
   "source": [
    "fibonacci = [0,1]\n",
    "def fibonacciRecursion(n,a,b):\n",
    "    if n == 1 :\n",
    "        return 1\n",
    "    else:\n",
    "        result = a+b\n",
    "        print(result, end=',')\n",
    "        fibonacciRecursion(n-1,b,result)\n",
    "        \n",
    "print('0,1',end=',')            \n",
    "   \n",
    "    \n",
    "fibonacciRecursion(5,1,2)\n",
    "        "
   ]
  },
  {
   "cell_type": "markdown",
   "id": "aa164528",
   "metadata": {},
   "source": [
    "2.Write a Python Program to Find Factorial of Number Using Recursion?"
   ]
  },
  {
   "cell_type": "code",
   "execution_count": 19,
   "id": "3ec6a941",
   "metadata": {},
   "outputs": [
    {
     "name": "stdout",
     "output_type": "stream",
     "text": [
      "Enter the number: 5\n",
      "factorial of 5 is 120\n"
     ]
    }
   ],
   "source": [
    "factNum = int(input('Enter the number: '))\n",
    "def factorialREcursion(factNum):\n",
    "    if factNum <1 :\n",
    "        return 1\n",
    "    else:\n",
    "        return factNum*factorialREcursion(factNum-1)\n",
    "result = factorialREcursion(5)    \n",
    "print(f'factorial of {factNum} is {result}')"
   ]
  },
  {
   "cell_type": "markdown",
   "id": "bb4d3eb2",
   "metadata": {},
   "source": [
    "Write a Python Program to calculate your Body Mass Index?"
   ]
  },
  {
   "cell_type": "code",
   "execution_count": 1,
   "id": "d0c5d860",
   "metadata": {},
   "outputs": [
    {
     "name": "stdout",
     "output_type": "stream",
     "text": [
      "Enter weight in Kgs: 66\n",
      "Enter height in Mts: 1.6\n",
      "Your BMI is 25.781249999999996 and you consider in Over weight\n"
     ]
    }
   ],
   "source": [
    "def calculateBMI():\n",
    "    weight= eval(input('Enter weight in Kgs: '))\n",
    "    height= eval(input('Enter height in Mts: '))\n",
    "    calBMI = weight/pow(height,2)\n",
    "    if calBMI < 18.5:\n",
    "        result = 'Under weight'\n",
    "    elif calBMI > 18.9 and calBMI < 24.9:\n",
    "        result = 'Healthy weight'\n",
    "    elif calBMI > 24.9 and calBMI < 29.9:\n",
    "        result = 'Over weight'\n",
    "    else:\n",
    "        result = 'Obesity'\n",
    "    print(f'Your BMI is {calBMI} and you consider in {result}')\n",
    "\n",
    "calculateBMI()\n",
    "\n",
    "        \n",
    "    "
   ]
  },
  {
   "cell_type": "markdown",
   "id": "1e0a44f8",
   "metadata": {},
   "source": [
    "Write a Python Program to calculate the natural logarithm of any number?"
   ]
  },
  {
   "cell_type": "code",
   "execution_count": 6,
   "id": "043db07f",
   "metadata": {},
   "outputs": [
    {
     "name": "stdout",
     "output_type": "stream",
     "text": [
      "Enter number: 5\n",
      "logatirhm of 5 is 1.6094379124341003\n"
     ]
    }
   ],
   "source": [
    "import math\n",
    "number = int(input('Enter number: '))\n",
    "def logNumber(number):\n",
    "    result = math.log(number)\n",
    "    print(f'logatirhm of {number} is {result}')\n",
    "\n",
    "    \n",
    "logNumber(number)\n",
    "\n",
    "     "
   ]
  },
  {
   "cell_type": "markdown",
   "id": "e7d955d4",
   "metadata": {},
   "source": [
    "5.Write a Python Program for cube sum of first n natural numbers?"
   ]
  },
  {
   "cell_type": "code",
   "execution_count": 22,
   "id": "7a72ff54",
   "metadata": {},
   "outputs": [
    {
     "name": "stdout",
     "output_type": "stream",
     "text": [
      "Enter the number: 10\n",
      "Some of first 10 number is 3025.0\n"
     ]
    }
   ],
   "source": [
    "def cubeOfNaturalNumber():\n",
    "    num = int(input('Enter the number: '))\n",
    "    result = pow((num * (num+1))/2,2)\n",
    "    print(f'Some of first {num} number is {result}')\n",
    "    \n",
    "    \n",
    "cubeOfNaturalNumber()"
   ]
  }
 ],
 "metadata": {
  "kernelspec": {
   "display_name": "Python 3 (ipykernel)",
   "language": "python",
   "name": "python3"
  },
  "language_info": {
   "codemirror_mode": {
    "name": "ipython",
    "version": 3
   },
   "file_extension": ".py",
   "mimetype": "text/x-python",
   "name": "python",
   "nbconvert_exporter": "python",
   "pygments_lexer": "ipython3",
   "version": "3.10.9"
  }
 },
 "nbformat": 4,
 "nbformat_minor": 5
}
