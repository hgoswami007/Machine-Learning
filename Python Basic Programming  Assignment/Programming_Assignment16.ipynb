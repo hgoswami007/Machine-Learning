{
 "cells": [
  {
   "cell_type": "markdown",
   "id": "ae04f36e",
   "metadata": {},
   "source": [
    "### 1.Write a function that stutters a word as if someone is struggling to read it. The first two letters are repeated twice with an ellipsis ... and space after each, and then the word is pronounced with a question mark ?.\n",
    "\n",
    "Examples\n",
    "stutter(\"incredible\") ➞ \"in... in... incredible?\"\n",
    "\n",
    "stutter(\"enthusiastic\") ➞ \"en... en... enthusiastic?\"\n",
    "\n",
    "stutter(\"outstanding\") ➞ \"ou... ou... outstanding?\"\n",
    "\n",
    "Hint :- Assume all input is in lower case and at least two characters long."
   ]
  },
  {
   "cell_type": "code",
   "execution_count": 25,
   "id": "b9c7875c",
   "metadata": {},
   "outputs": [
    {
     "name": "stdout",
     "output_type": "stream",
     "text": [
      "Enter the word....incredible\n",
      "in...in...incredible?\n",
      "Enter the word....enthusiastic\n",
      "en...en...enthusiastic?\n",
      "Enter the word....outstanding\n",
      "ou...ou...outstanding?\n"
     ]
    }
   ],
   "source": [
    "def stutter():\n",
    "        word = input('Enter the word....')\n",
    "        print(f'{word[0]+word[1]}...{word[0]+word[1]}...{word}?')\n",
    "        \n",
    "for i in range(3):\n",
    "    stutter()"
   ]
  },
  {
   "cell_type": "markdown",
   "id": "8de5309f",
   "metadata": {},
   "source": [
    "### 2.Create a function that takes an angle in radians and returns the corresponding angle in degrees rounded to one decimal place.\n",
    "Examples\n",
    "radians_to_degrees(1) ➞ 57.3\n",
    "\n",
    "radians_to_degrees(20) ➞ 1145.9\n",
    "\n",
    "radians_to_degrees(50) ➞ 2864.8\n"
   ]
  },
  {
   "cell_type": "code",
   "execution_count": 6,
   "id": "310e5fdb",
   "metadata": {},
   "outputs": [
    {
     "name": "stdout",
     "output_type": "stream",
     "text": [
      "Enter the angle in radians: 1\n",
      "radians_to_degree1 ➞  57.3\n"
     ]
    }
   ],
   "source": [
    "def radianToDegree():\n",
    "    rad = int(input('Enter the angle in radians: '))\n",
    "    degree = rad * (180/3.14)\n",
    "    print(f'radians_to_degree{(rad)} ➞  {degree:.1f}')\n",
    "    \n",
    "radianToDegree()"
   ]
  },
  {
   "cell_type": "markdown",
   "id": "e20a81bb",
   "metadata": {},
   "source": [
    "### 3.In this challenge, establish if a given integer num is a Curzon number. If 1 plus 2 elevated to num is exactly divisible by 1 plus 2 multiplied by num, then num is a Curzon number.\n",
    "Given a non-negative integer num, implement a function that returns True if num is a Curzon number, or False otherwise.\n",
    "Examples\n",
    "is_curzon(5) ➞ True\n",
    "\n",
    " 2 ** 5 + 1 = 33\n",
    " \n",
    " 2 * 5 + 1 = 11\n",
    " \n",
    " 33 is a multiple of 11\n",
    "\n",
    "is_curzon(10) ➞ False\n",
    " 2 ** 10 + 1 = 1025\n",
    " \n",
    " 2 * 10 + 1 = 21\n",
    " \n",
    " 1025 is not a multiple of 21\n",
    "\n",
    "is_curzon(14) ➞ True\n",
    " 2 ** 14 + 1 = 16385\n",
    " \n",
    " 2 * 14 + 1 = 29\n",
    " \n",
    " 16385 is a multiple of 29"
   ]
  },
  {
   "cell_type": "code",
   "execution_count": 8,
   "id": "b715bf41",
   "metadata": {},
   "outputs": [
    {
     "name": "stdout",
     "output_type": "stream",
     "text": [
      "Enter the number: 5\n",
      "The 5 is curzon\n",
      "Enter the number: 10\n",
      "The 10 is not curzon\n",
      "Enter the number: 14\n",
      "The 14 is curzon\n"
     ]
    }
   ],
   "source": [
    "def iscurzon():\n",
    "    number = int(input('Enter the number: '))\n",
    "    if (2**number + 1)%(2*number + 1)==0 :\n",
    "        print(f'The {number} is curzon')\n",
    "    else:\n",
    "        print(f'The {number} is not curzon')\n",
    "        \n",
    "for  i in range(0,3):\n",
    "    iscurzon()"
   ]
  },
  {
   "cell_type": "markdown",
   "id": "cb6d6233",
   "metadata": {},
   "source": [
    "### 4.Given the side length x find the area of a hexagon.\n",
    "Examples\n",
    "\n",
    "area_of_hexagon(1) ➞ 2.6\n",
    "\n",
    "area_of_hexagon(2) ➞ 10.4\n",
    "\n",
    "area_of_hexagon(3) ➞ 23.4"
   ]
  },
  {
   "cell_type": "code",
   "execution_count": 14,
   "id": "95bff488",
   "metadata": {},
   "outputs": [
    {
     "name": "stdout",
     "output_type": "stream",
     "text": [
      "Enter the length of side: 1\n",
      "area of hexagon is 1 ➞ 2.6\n",
      "Enter the length of side: 2\n",
      "area of hexagon is 2 ➞ 10.4\n",
      "Enter the length of side: 3\n",
      "area of hexagon is 3 ➞ 23.4\n"
     ]
    }
   ],
   "source": [
    "def area_of_hexagon():\n",
    "    side = int(input('Enter the length of side: '))\n",
    "    area = (3*math.sqrt(3)*pow(side,2))/2\n",
    "    print(f'area of hexagon is {side} ➞ {area:.1f}')\n",
    "\n",
    "for i in range(0,3):\n",
    "    area_of_hexagon()"
   ]
  },
  {
   "cell_type": "markdown",
   "id": "9c4e06b2",
   "metadata": {},
   "source": [
    "### 5. Create a function that returns a base-2 (binary) representation of a base-10 (decimal) string number. To convert is simple: ((2) means base-2 and (10) means base-10) 010101001(2) = 1 + 8 + 32 + 128.\n",
    "Going from right to left, the value of the most right bit is 1, now from that every bit to the left will be x2 the value, value of an 8 bit binary numbers are (256, 128, 64, 32, 16, 8, 4, 2, 1).\n",
    "Examples\n",
    "\n",
    "binary(1) ➞ \"1\"\n",
    " 1*1 = 1\n",
    "\n",
    "binary(5) ➞ \"101\"\n",
    " 1*1 + 1*4 = 5\n",
    "\n",
    "binary(10) ➞ \"1010\"\n",
    " 1*2 + 1*8 = 10"
   ]
  },
  {
   "cell_type": "code",
   "execution_count": 15,
   "id": "30ef9f85",
   "metadata": {},
   "outputs": [
    {
     "name": "stdout",
     "output_type": "stream",
     "text": [
      "Enter the number: 1\n",
      "binary1 ➞ 1\n",
      "Enter the number: 5\n",
      "binary5 ➞ 101\n",
      "Enter the number: 10\n",
      "binary10 ➞ 1010\n"
     ]
    }
   ],
   "source": [
    "def getbinary():\n",
    "    number = int(input('Enter the number: '))\n",
    "    bin_number =bin(number).replace('0b','')\n",
    "    print(f'binary{(number)} ➞ {bin_number}')\n",
    "    \n",
    "for i in range(0,3):\n",
    "    getbinary()\n",
    "    "
   ]
  },
  {
   "cell_type": "code",
   "execution_count": null,
   "id": "fb1b22f0",
   "metadata": {},
   "outputs": [],
   "source": []
  }
 ],
 "metadata": {
  "kernelspec": {
   "display_name": "Python 3 (ipykernel)",
   "language": "python",
   "name": "python3"
  },
  "language_info": {
   "codemirror_mode": {
    "name": "ipython",
    "version": 3
   },
   "file_extension": ".py",
   "mimetype": "text/x-python",
   "name": "python",
   "nbconvert_exporter": "python",
   "pygments_lexer": "ipython3",
   "version": "3.9.7"
  }
 },
 "nbformat": 4,
 "nbformat_minor": 5
}
