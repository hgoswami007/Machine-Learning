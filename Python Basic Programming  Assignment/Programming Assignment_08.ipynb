{
 "cells": [
  {
   "cell_type": "markdown",
   "id": "beb4db69",
   "metadata": {},
   "source": [
    "1.Write a Python Program to Add Two Matrices?"
   ]
  },
  {
   "cell_type": "code",
   "execution_count": 43,
   "id": "8d927201",
   "metadata": {},
   "outputs": [
    {
     "name": "stdout",
     "output_type": "stream",
     "text": [
      "Add to matrices is [[ 2  4  6]\n",
      " [ 8 10 12]\n",
      " [14 16 18]]\n"
     ]
    }
   ],
   "source": [
    "import numpy as np\n",
    "def addMatrices(a,b):\n",
    "    if len(a[0]) == len(b):\n",
    "        result = np.matrix(a) + np.matrix(b)\n",
    "        print(f'Add to matrices is {result}')\n",
    "    else:\n",
    "        print('Matrix Addition not possible')\n",
    "    \n",
    "addMatrices([[1,2,3],[4,5,6],[7,8,9]],[[1,2,3],[4,5,6],[7,8,9]])"
   ]
  },
  {
   "cell_type": "markdown",
   "id": "d8056783",
   "metadata": {},
   "source": [
    "2.Write a Python Program to Multiply Two Matrices?"
   ]
  },
  {
   "cell_type": "code",
   "execution_count": 42,
   "id": "7bb20f5f",
   "metadata": {},
   "outputs": [
    {
     "name": "stdout",
     "output_type": "stream",
     "text": [
      "Add to matrices is [[ 2  4  6]\n",
      " [ 8 10 12]\n",
      " [14 16 18]]\n"
     ]
    }
   ],
   "source": [
    "import numpy as np\n",
    "def multiplyMatrices(a,b):\n",
    "    if len(a[0]) == len(b):\n",
    "        result = np.matrix(a) * np.matrix(b)\n",
    "        print(f'Add to matrices is {result}')\n",
    "    else:\n",
    "        print('Matrix multiplication not possible')\n",
    "    \n",
    "addMatrices([[1,2,3],[4,5,6],[7,8,9]],[[1,2,3],[4,5,6],[7,8,9]])"
   ]
  },
  {
   "cell_type": "markdown",
   "id": "65384c7b",
   "metadata": {},
   "source": [
    "3.Write a Python Program to Transpose a Matrix?"
   ]
  },
  {
   "cell_type": "code",
   "execution_count": 49,
   "id": "eae401e0",
   "metadata": {},
   "outputs": [
    {
     "name": "stdout",
     "output_type": "stream",
     "text": [
      "Add to matrices is : [[1 4 7]\n",
      " [2 5 8]\n",
      " [3 6 9]]\n"
     ]
    }
   ],
   "source": [
    "import numpy as np\n",
    "def transpose(a):\n",
    "        result = np.matrix(a).T\n",
    "        print(f'Add to matrices is : {result}')\n",
    "    \n",
    "transpose([[1,2,3],[4,5,6],[7,8,9]])"
   ]
  },
  {
   "cell_type": "markdown",
   "id": "e9e34b79",
   "metadata": {},
   "source": [
    "4.Write a Python Program to Sort Words in Alphabetic Order?"
   ]
  },
  {
   "cell_type": "code",
   "execution_count": 62,
   "id": "db89dc58",
   "metadata": {},
   "outputs": [
    {
     "name": "stdout",
     "output_type": "stream",
     "text": [
      "Enter string: Hardik\n",
      "Alphabetic order of string is ['a', 'd', 'h', 'i', 'k', 'r']\n"
     ]
    }
   ],
   "source": [
    "def alphabeticOrder():\n",
    "    string = input('Enter string: ').lower()\n",
    "    print(f'Alphabetic order of string is {sorted(string)}')\n",
    "    \n",
    "alphabeticOrder()"
   ]
  },
  {
   "cell_type": "markdown",
   "id": "bea73e13",
   "metadata": {},
   "source": [
    "5.Write a Python Program to Remove Punctuation From a String?"
   ]
  },
  {
   "cell_type": "code",
   "execution_count": 72,
   "id": "80bb2b79",
   "metadata": {},
   "outputs": [
    {
     "name": "stdout",
     "output_type": "stream",
     "text": [
      "Enter the string : \"Gfg is best:&^&*%%&*%^&$ for!%%#$%$#^&% Geeks ~~!~@!~!@;\"\n",
      "The String after removing punctustion is : Gfg is best for Geeks \n"
     ]
    }
   ],
   "source": [
    "import re\n",
    "def removePunctustion(test_str):  \n",
    "    test_str = input('Enter the string : ')\n",
    "    res = re.sub(r'[^\\w\\s]','',test_str)\n",
    "    print(f'The String after removing punctustion is : {res}')\n",
    "    \n",
    "\n",
    "removePunctustion(test_str)\n",
    "    "
   ]
  }
 ],
 "metadata": {
  "kernelspec": {
   "display_name": "Python 3 (ipykernel)",
   "language": "python",
   "name": "python3"
  },
  "language_info": {
   "codemirror_mode": {
    "name": "ipython",
    "version": 3
   },
   "file_extension": ".py",
   "mimetype": "text/x-python",
   "name": "python",
   "nbconvert_exporter": "python",
   "pygments_lexer": "ipython3",
   "version": "3.9.7"
  }
 },
 "nbformat": 4,
 "nbformat_minor": 5
}
