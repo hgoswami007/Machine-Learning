{
 "cells": [
  {
   "cell_type": "code",
   "execution_count": null,
   "id": "3be9d5b7",
   "metadata": {},
   "outputs": [],
   "source": []
  },
  {
   "cell_type": "code",
   "execution_count": 1,
   "id": "4afbacff",
   "metadata": {},
   "outputs": [
    {
     "name": "stdout",
     "output_type": "stream",
     "text": [
      "pentagonal(1) -> 1\n",
      "pentagonal(2) -> 6\n",
      "pentagonal(3) -> 16\n",
      "pentagonal(8) -> 141\n"
     ]
    }
   ],
   "source": [
    "def pentagonal(num):\n",
    "    output = 1\n",
    "    if num >= 1:\n",
    "        for i in range(num):\n",
    "            output = output + (i * 5)\n",
    "        print(f'pentagonal({num}) -> {output}')\n",
    "    else:\n",
    "        print(f' Enter positive number as input')\n",
    "        \n",
    "pentagonal(1)\n",
    "pentagonal(2)\n",
    "pentagonal(3)\n",
    "pentagonal(8)\n",
    "\n",
    "            \n",
    "           \n",
    "    "
   ]
  },
  {
   "cell_type": "code",
   "execution_count": null,
   "id": "6b8bd060",
   "metadata": {},
   "outputs": [],
   "source": []
  },
  {
   "cell_type": "code",
   "execution_count": 25,
   "id": "e8cc5a1c",
   "metadata": {},
   "outputs": [
    {
     "name": "stdout",
     "output_type": "stream",
     "text": [
      "encrypt(banana) -> 0n0n0baca\n",
      "encrypt(karaca) -> 0c0r0kaca\n",
      "encrypt(burak) -> k0r3baca\n",
      "encrypt(alpaca) -> 0c0pl0aca\n"
     ]
    }
   ],
   "source": [
    "def encrypt(word):\n",
    "    my_dict = {'a':0,'e':1,'i':2,'o':2,'u':3}\n",
    "    result_string=''\n",
    "    for i in word[::-1]:\n",
    "        if i in my_dict.keys():\n",
    "            result_string += str(my_dict[i])\n",
    "        else:\n",
    "            result_string += i\n",
    "    \n",
    "    result_string += 'aca'\n",
    "    print(f'encrypt({word}) -> {result_string}')\n",
    "    \n",
    "            \n",
    "        \n",
    "\n",
    "encrypt(\"banana\")\n",
    "encrypt(\"karaca\")\n",
    "encrypt(\"burak\")\n",
    "encrypt(\"alpaca\")\n",
    "    \n",
    "    "
   ]
  },
  {
   "cell_type": "code",
   "execution_count": 12,
   "id": "05929e5d",
   "metadata": {},
   "outputs": [
    {
     "name": "stdout",
     "output_type": "stream",
     "text": [
      "dict_keys(['a', 'e', 'i', 'o', 'u'])\n",
      "dict_items([('a', 0), ('e', 1), ('i', 2), ('o', 2), ('u', 3)])\n"
     ]
    }
   ],
   "source": [
    "my_dict = {'a':0,'e':1,'i':2,'o':2,'u':3}\n",
    "print(my_dict.keys())\n",
    "print(my_dict.items())"
   ]
  },
  {
   "cell_type": "code",
   "execution_count": null,
   "id": "07f82446",
   "metadata": {},
   "outputs": [],
   "source": []
  },
  {
   "cell_type": "code",
   "execution_count": 26,
   "id": "f1f2badd",
   "metadata": {},
   "outputs": [],
   "source": [
    "import datetime"
   ]
  },
  {
   "cell_type": "code",
   "execution_count": 35,
   "id": "d3ac22df",
   "metadata": {},
   "outputs": [
    {
     "name": "stdout",
     "output_type": "stream",
     "text": [
      "has_friday_13(3, 2020) -> True\n",
      "has_friday_13(10, 2017) -> True\n",
      "has_friday_13(1, 1985) -> False\n"
     ]
    }
   ],
   "source": [
    "import datetime\n",
    "def has_friday_13(month,year):\n",
    "    output = False\n",
    "    if  datetime.datetime(year,month,13).strftime('%A') == \"Friday\":\n",
    "        output = True\n",
    "    print(f'has_friday_13{month,year} -> {output}')\n",
    "        \n",
    "has_friday_13(3,2020)\n",
    "has_friday_13(10,2017)\n",
    "has_friday_13(1,1985)\n",
    "        "
   ]
  },
  {
   "cell_type": "code",
   "execution_count": null,
   "id": "47ae9df9",
   "metadata": {},
   "outputs": [],
   "source": []
  },
  {
   "cell_type": "code",
   "execution_count": 41,
   "id": "cd339f3e",
   "metadata": {},
   "outputs": [
    {
     "name": "stdout",
     "output_type": "stream",
     "text": [
      "(?<!good)\\scookie\n",
      "No of bad cookie produced per day -> 2\n"
     ]
    }
   ],
   "source": [
    "import re\n",
    "\n",
    "lst= [\"bad cookie\",\"good cookie\",\"bad cookie\",\"good cookie\",\"good cookie\"]\n",
    "pattern = r'(?<!good)\\scookie'\n",
    "print(pattern)\n",
    "data = (re.findall(pattern,\", \".join(lst)))\n",
    "\n",
    "print(f'No of bad cookie produced per day -> {len(data)}')"
   ]
  },
  {
   "cell_type": "code",
   "execution_count": null,
   "id": "d5b6c46a",
   "metadata": {},
   "outputs": [],
   "source": []
  },
  {
   "cell_type": "code",
   "execution_count": 46,
   "id": "243992aa",
   "metadata": {},
   "outputs": [
    {
     "name": "stdout",
     "output_type": "stream",
     "text": [
      "pluralize(['cow', 'pig', 'cow', 'cow']) -> {'pig', 'cow'}\n",
      "pluralize(['table', 'table', 'table']) -> {'table'}\n",
      "pluralize(['chair', 'pencial', 'arm']) -> {'pencial', 'arm', 'chair'}\n"
     ]
    }
   ],
   "source": [
    "def pluralize(list_in):\n",
    "    result = set()\n",
    "    for i in list_in:\n",
    "        result.add(i)\n",
    "    print(f'pluralize({list_in}) -> {result}')\n",
    "    \n",
    "pluralize([\"cow\",\"pig\",\"cow\",\"cow\"])\n",
    "pluralize([\"table\",\"table\",\"table\"])\n",
    "pluralize([\"chair\",\"pencial\",\"arm\"])"
   ]
  },
  {
   "cell_type": "code",
   "execution_count": null,
   "id": "7f19adb6",
   "metadata": {},
   "outputs": [],
   "source": []
  }
 ],
 "metadata": {
  "kernelspec": {
   "display_name": "Python 3 (ipykernel)",
   "language": "python",
   "name": "python3"
  },
  "language_info": {
   "codemirror_mode": {
    "name": "ipython",
    "version": 3
   },
   "file_extension": ".py",
   "mimetype": "text/x-python",
   "name": "python",
   "nbconvert_exporter": "python",
   "pygments_lexer": "ipython3",
   "version": "3.9.7"
  }
 },
 "nbformat": 4,
 "nbformat_minor": 5
}
