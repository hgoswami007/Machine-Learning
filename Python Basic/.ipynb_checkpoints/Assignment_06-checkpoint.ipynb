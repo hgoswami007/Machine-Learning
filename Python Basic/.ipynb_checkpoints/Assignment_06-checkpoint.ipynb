{
 "cells": [
  {
   "cell_type": "markdown",
   "id": "5ab6c7e1",
   "metadata": {},
   "source": [
    "**1.What are Escape characters ? and how do you use them ?**"
   ]
  },
  {
   "cell_type": "markdown",
   "id": "bf3a5291",
   "metadata": {},
   "source": [
    "**ANS.** Escape character represent in string value that would be difficult or impossible to write into code. we can use the backslach `character` to escape singe character or symbol.\n",
    "`\\t`,`\\n`"
   ]
  },
  {
   "cell_type": "markdown",
   "id": "edcd40f0",
   "metadata": {},
   "source": [
    "**2.What do the escape characters n and t stand for ?**"
   ]
  },
  {
   "cell_type": "markdown",
   "id": "642b27e6",
   "metadata": {},
   "source": [
    "**ANS.** escape character `\\n` stands for `newline` and `\\t` stands for `tab`"
   ]
  },
  {
   "cell_type": "markdown",
   "id": "1f69ad39",
   "metadata": {},
   "source": [
    "**3.What is the way to include backslash character in a string?**"
   ]
  },
  {
   "cell_type": "markdown",
   "id": "3e769237",
   "metadata": {},
   "source": [
    "**ANS**. The `\\\\` escape character will represent backslash character in string."
   ]
  },
  {
   "cell_type": "markdown",
   "id": "57602c4a",
   "metadata": {},
   "source": [
    "**4.The string \"Howl's Moving Castle\" is a correct value. Why isn't the single quote character in the word Howl's not escaped a problem ?**\n"
   ]
  },
  {
   "cell_type": "markdown",
   "id": "43a86a1b",
   "metadata": {},
   "source": [
    "**ANS.** The String \"Howl's Moving Castle\" escaped the problem becaue it's rapped in double quotes, if it's rapped in single quotes then we have to use `\\` escape character to show single character in final output.\n",
    "\n",
    "`'Howl\\'s Moving Castle'`"
   ]
  },
  {
   "cell_type": "markdown",
   "id": "76d16995",
   "metadata": {},
   "source": [
    "**5.How do you write a string of newlines if you don't want to use the n character?**"
   ]
  },
  {
   "cell_type": "markdown",
   "id": "dfd68186",
   "metadata": {},
   "source": [
    "**ANS.** Multiline string allow you to use newline without using `\\n` escape character."
   ]
  },
  {
   "cell_type": "code",
   "execution_count": 3,
   "id": "f49cb2e1",
   "metadata": {},
   "outputs": [
    {
     "name": "stdout",
     "output_type": "stream",
     "text": [
      "iNeuron full stack\n",
      "Data science cource\n"
     ]
    }
   ],
   "source": [
    "# Example\n",
    "\n",
    "a = \"\"\"iNeuron full stack\n",
    "Data science cource\"\"\"\n",
    "\n",
    "print(a)"
   ]
  },
  {
   "cell_type": "markdown",
   "id": "1999845f",
   "metadata": {},
   "source": [
    "**6.What are the values of the given expressions ?**\n",
    "\n",
    "'Hello, world!'[1]\n",
    "\n",
    "'Hello, world!'[0:5]\n",
    "\n",
    "'Hello, world!'[:5]\n",
    "\n",
    "'Hello, world!'[3:]"
   ]
  },
  {
   "cell_type": "markdown",
   "id": "29db64b8",
   "metadata": {},
   "source": [
    "'Hello, world!'[1] -> `e`\n",
    "\n",
    "'Hello, world!'[0:5] -> `Hell0`\n",
    "\n",
    "'Hello, world!'[:5] -> `Hell0`\n",
    "\n",
    "'Hello, world!'[3:] -> `lo, world!`"
   ]
  },
  {
   "cell_type": "markdown",
   "id": "b327a781",
   "metadata": {},
   "source": [
    "**7.What are the values of the following expressions ?**\n",
    "\n",
    "'Hello'.upper()\n",
    "\n",
    "'Hello'.upper().isupper()\n",
    "\n",
    "'Hello'.upper().lower()"
   ]
  },
  {
   "cell_type": "markdown",
   "id": "fcf440a9",
   "metadata": {},
   "source": [
    "'Hello'.upper() `->`  `HELLO`\n",
    "\n",
    "'Hello'.upper().isupper() `->`  `True`\n",
    "\n",
    "'Hello'.upper().lower() `->`  `hello`"
   ]
  },
  {
   "cell_type": "markdown",
   "id": "ff3346b5",
   "metadata": {},
   "source": [
    "**8.What are the values of the following expressions ?**\n",
    "\n",
    "'Remember, remember, the fifith of July.'.split()\n",
    "\n",
    "-'.join('There can only one'.split())"
   ]
  },
  {
   "cell_type": "markdown",
   "id": "f23a66e9",
   "metadata": {},
   "source": [
    "**ANS.** `['Remember','remember','the','fifith','of','July']`\n",
    "`[There-can-only-one]`"
   ]
  },
  {
   "cell_type": "markdown",
   "id": "0dbf3eea",
   "metadata": {},
   "source": [
    "**9.What are the methods for right-justifying, left-justifying and centering a string ?**"
   ]
  },
  {
   "cell_type": "markdown",
   "id": "a7908955",
   "metadata": {},
   "source": [
    "The `rjust()`, `ljust()`, `center()`string method justifying"
   ]
  },
  {
   "cell_type": "markdown",
   "id": "184fce2f",
   "metadata": {},
   "source": [
    "**10.What is the best way to remove whitespace characters from the start or end ?**"
   ]
  },
  {
   "cell_type": "markdown",
   "id": "f2b6480a",
   "metadata": {},
   "source": [
    "The `lstrip` and `rstrip` methods remove the whitespace characters from the left and right ends of a string respectively."
   ]
  }
 ],
 "metadata": {
  "kernelspec": {
   "display_name": "Python 3 (ipykernel)",
   "language": "python",
   "name": "python3"
  },
  "language_info": {
   "codemirror_mode": {
    "name": "ipython",
    "version": 3
   },
   "file_extension": ".py",
   "mimetype": "text/x-python",
   "name": "python",
   "nbconvert_exporter": "python",
   "pygments_lexer": "ipython3",
   "version": "3.10.9"
  }
 },
 "nbformat": 4,
 "nbformat_minor": 5
}
