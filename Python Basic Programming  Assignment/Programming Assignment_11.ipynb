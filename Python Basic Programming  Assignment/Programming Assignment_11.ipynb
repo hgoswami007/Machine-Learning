{
 "cells": [
  {
   "cell_type": "markdown",
   "id": "65cf532c",
   "metadata": {},
   "source": [
    "1.Write a Python program to find words which are greater than given length k?"
   ]
  },
  {
   "cell_type": "code",
   "execution_count": 3,
   "id": "6e9bc1dd",
   "metadata": {},
   "outputs": [
    {
     "name": "stdout",
     "output_type": "stream",
     "text": [
      "Enter the string : INeuron full stack machine learning course is awesome\n",
      "Enter the length of string: 6\n",
      "['INeuron', 'machine', 'learning', 'awesome']\n"
     ]
    }
   ],
   "source": [
    "def findWord():\n",
    "    string = input('Enter the string : ')\n",
    "    length = int(input('Enter the length of string: '))\n",
    "    output = []\n",
    "    for i in string.split(\" \"):\n",
    "        if len(i) > length:\n",
    "            output.append(i)\n",
    "#     print(','.join(output))\n",
    "    print(output)\n",
    "    \n",
    "findWord() "
   ]
  },
  {
   "cell_type": "markdown",
   "id": "3fe42f35",
   "metadata": {},
   "source": [
    "2.Write a Python program for removing i-th character from a string?"
   ]
  },
  {
   "cell_type": "code",
   "execution_count": 8,
   "id": "5bc648b5",
   "metadata": {},
   "outputs": [
    {
     "name": "stdout",
     "output_type": "stream",
     "text": [
      "Enter the string: ineuron\n",
      "Enter the ith character : 3\n",
      "ineron\n"
     ]
    }
   ],
   "source": [
    "def removeIchara():\n",
    "    string = input('Enter the string: ')\n",
    "    iCharacter = int(input('Enter the ith character : '))\n",
    "    outString = ''\n",
    "                           \n",
    "    for i in range(len(string)):\n",
    "        if i != iCharacter:\n",
    "            outString = outString + string[i]\n",
    "    print(outString)\n",
    "    \n",
    "    \n",
    "removeIchara()\n",
    "                           \n",
    "                           "
   ]
  },
  {
   "cell_type": "markdown",
   "id": "d9951672",
   "metadata": {},
   "source": [
    "3.Write a Python program to split and join a string?"
   ]
  },
  {
   "cell_type": "code",
   "execution_count": 13,
   "id": "c59352cd",
   "metadata": {},
   "outputs": [
    {
     "name": "stdout",
     "output_type": "stream",
     "text": [
      "Enter the string: Block chain is necessary for this project\n",
      "Split String : ['Block', 'chain', 'is', 'necessary', 'for', 'this', 'project']\n",
      "Join String : Block chain is necessary for this project\n"
     ]
    }
   ],
   "source": [
    "def splitNjoin():\n",
    "    string = input('Enter the string: ')\n",
    "    \n",
    "    \n",
    "    print(f'Split String : {string.split(\" \")}')\n",
    "    print(f'Join String : {\" \".join(string.split(\" \"))}')\n",
    "    \n",
    "splitNjoin()"
   ]
  },
  {
   "cell_type": "markdown",
   "id": "7c67286e",
   "metadata": {},
   "source": [
    "4.Write a Python to check if a given string is binary string or not?"
   ]
  },
  {
   "cell_type": "code",
   "execution_count": 16,
   "id": "d74656f7",
   "metadata": {},
   "outputs": [
    {
     "name": "stdout",
     "output_type": "stream",
     "text": [
      "Enter the string: 101010\n",
      "101010 is a binary string\n"
     ]
    }
   ],
   "source": [
    "def checkBinary():\n",
    "    string_in = input('Enter the string: ')\n",
    "    output = 0\n",
    "    for ele in string_in:\n",
    "        if ele in ['0','1']:\n",
    "            output =1\n",
    "            continue\n",
    "        else:\n",
    "            output =0\n",
    "            break\n",
    "    if output == 1:\n",
    "        print(f'{string_in} is a binary string')\n",
    "    else:\n",
    "        print(f'{string_in} is not a binary string')\n",
    "      \n",
    "    \n",
    "checkBinary()\n",
    "    "
   ]
  },
  {
   "cell_type": "markdown",
   "id": "48fa1921",
   "metadata": {},
   "source": [
    "5.Write a Python program to find uncommon words from two Strings?"
   ]
  },
  {
   "cell_type": "code",
   "execution_count": 12,
   "id": "633a26ce",
   "metadata": {},
   "outputs": [
    {
     "name": "stdout",
     "output_type": "stream",
     "text": [
      "Enter the string 1 : supervised Learning\n",
      "Enter the string 1 : unsupervised Learning\n",
      "{'supervised', 'unsupervised'}\n"
     ]
    }
   ],
   "source": [
    "def unCommonWords():\n",
    "    string_1 = set(input('Enter the string 1 : ').split(' '))\n",
    "    string_2 = set(input('Enter the string 1 : ').split(' '))\n",
    "    out_string = string_1.union(string_2).difference(string_1.intersection(string_2))\n",
    "    print(out_string)\n",
    "    \n",
    "unCommonWords()  "
   ]
  },
  {
   "cell_type": "markdown",
   "id": "3bd3b358",
   "metadata": {},
   "source": [
    "6.Write a Python to find all duplicate characters in string?"
   ]
  },
  {
   "cell_type": "code",
   "execution_count": 27,
   "id": "61562a31",
   "metadata": {},
   "outputs": [
    {
     "name": "stdout",
     "output_type": "stream",
     "text": [
      "Enter the string: full stack data science course\n",
      "Duplicate characters are : [' ', 'a', 'u', 'c', 't', 'l', 'e', 's']\n"
     ]
    }
   ],
   "source": [
    "def duplicateChar():\n",
    "    strning_in = input('Enter the string: ')\n",
    "    duplicateChar_list = []\n",
    "    non_duplicate = []\n",
    "    for ele in strning_in:\n",
    "        if ele not in non_duplicate:\n",
    "            non_duplicate.append(ele)\n",
    "        else:\n",
    "            duplicateChar_list.append(ele)\n",
    "    print(f'Duplicate characters are : {list(set(duplicateChar_list))}')\n",
    "            \n",
    "        \n",
    "duplicateChar()      "
   ]
  },
  {
   "cell_type": "markdown",
   "id": "279dd2fb",
   "metadata": {},
   "source": [
    "7.Write a Python Program to check if a string contains any special character?"
   ]
  },
  {
   "cell_type": "code",
   "execution_count": 29,
   "id": "1bb70a0e",
   "metadata": {},
   "outputs": [
    {
     "name": "stdout",
     "output_type": "stream",
     "text": [
      "Enter the string : hm @ ineuron $\n",
      "String contain special character\n"
     ]
    }
   ],
   "source": [
    "import re\n",
    "\n",
    "def checkSpecialChar():\n",
    "    string_in = input('Enter the string : ')\n",
    "    if (bool(re.match('^[a-zA-Z0-9]*$',string_in)) == True):\n",
    "        print('String does not contain any special character')\n",
    "    else:\n",
    "        print('String contain special character')\n",
    "        \n",
    "checkSpecialChar()"
   ]
  }
 ],
 "metadata": {
  "kernelspec": {
   "display_name": "Python 3 (ipykernel)",
   "language": "python",
   "name": "python3"
  },
  "language_info": {
   "codemirror_mode": {
    "name": "ipython",
    "version": 3
   },
   "file_extension": ".py",
   "mimetype": "text/x-python",
   "name": "python",
   "nbconvert_exporter": "python",
   "pygments_lexer": "ipython3",
   "version": "3.9.7"
  }
 },
 "nbformat": 4,
 "nbformat_minor": 5
}
