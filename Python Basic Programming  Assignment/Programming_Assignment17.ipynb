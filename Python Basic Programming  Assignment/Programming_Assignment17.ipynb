{
 "cells": [
  {
   "cell_type": "markdown",
   "id": "86e52149",
   "metadata": {},
   "source": [
    "### 1.Create a function that takes three arguments a, b, c and returns the sum of the numbers that are evenly divided by c from the range a, b inclusive ?\n",
    "Examples:\n",
    "`evenly_divisible(1, 10, 20) ➞ 0\n",
    "\n",
    " No number between 1 and 10 can be evenly divided by 20.\n",
    "evenly_divisible(1, 10, 2) ➞ 30\n",
    "\n",
    " 2 + 4 + 6 + 8 + 10 = 30\n",
    "evenly_divisible(1, 10, 3) ➞ 18\n",
    "\n",
    " 3 + 6 + 9 = 18`"
   ]
  },
  {
   "cell_type": "code",
   "execution_count": 11,
   "id": "0e44c188",
   "metadata": {},
   "outputs": [
    {
     "name": "stdout",
     "output_type": "stream",
     "text": [
      "evenly_divisible(1, 10, 20) ➞ 0\n",
      "evenly_divisible(1, 10, 2) ➞ 30\n",
      "evenly_divisible(1, 10, 3) ➞ 18\n"
     ]
    }
   ],
   "source": [
    "def evenDivisible(a,b,c):\n",
    "    sum = 0\n",
    "    for i in range(a,b+1):    \n",
    "        if i%c==0:\n",
    "            sum += i\n",
    "    print(f'evenly_divisible{(a,b,c)} ➞ {sum}')\n",
    "\n",
    "evenDivisible(1,10,20)\n",
    "evenDivisible(1,10,2)\n",
    "evenDivisible(1,10,3)\n",
    "\n",
    "\n",
    "            "
   ]
  },
  {
   "cell_type": "markdown",
   "id": "f730bec6",
   "metadata": {},
   "source": [
    "### 2.Create a function that returns True if a given inequality expression is correct and False otherwise ?\n",
    "Examples:<br>\n",
    "`correct_signs(\"3 < 7 < 11\") ➞ True`<br>\n",
    "`correct_signs(\"13 > 44 > 33 > 1\") ➞ False`<br>\n",
    "`correct_signs(\"1 < 2 < 6 < 9 > 3\") ➞ True`<br>\n"
   ]
  },
  {
   "cell_type": "code",
   "execution_count": 14,
   "id": "6091a08e",
   "metadata": {},
   "outputs": [
    {
     "name": "stdout",
     "output_type": "stream",
     "text": [
      "Enter the inquality: 3 < 7 < 11\n",
      "correct_signs3 < 7 < 11 ➞ True\n",
      "Enter the inquality: 13 > 44 > 33 > 1\n",
      "correct_signs13 > 44 > 33 > 1 ➞ False\n",
      "Enter the inquality: 1 < 2 < 6 < 9 > 3\n",
      "correct_signs1 < 2 < 6 < 9 > 3 ➞ True\n"
     ]
    }
   ],
   "source": [
    "def checkInequality():\n",
    "    number = input('Enter the inquality: ')\n",
    "    check_number = eval(number)\n",
    "    print(f'correct_signs{(number)} ➞ {check_number}')\n",
    "    \n",
    "for i in range(0,3):\n",
    "    checkInequality()"
   ]
  },
  {
   "cell_type": "markdown",
   "id": "6a1ca1ab",
   "metadata": {},
   "source": [
    "### 3.Create a function that replaces all the vowels in a string with a specified character ?\n",
    "Examples:<br>\n",
    "`replace_vowels(\"the aardvark\", \"#\") ➞ \"th# ##rdv#rk\"`<br>\n",
    "`replace_vowels(\"minnie mouse\", \"?\") ➞ \"m?nn?? m??s?\"`<br>\n",
    "`replace_vowels(\"shakespeare\", \"*\") ➞ \"shksp**r\"`<br>\n",
    "\n"
   ]
  },
  {
   "cell_type": "code",
   "execution_count": 25,
   "id": "b473130e",
   "metadata": {},
   "outputs": [
    {
     "name": "stdout",
     "output_type": "stream",
     "text": [
      "Enter the string: the aardvark\n",
      "Enter the replacement char: #\n",
      "replace_vowels the aardvark ➞ th# ##rdv#rk\n",
      "Enter the string: minnie mouse\n",
      "Enter the replacement char: ?\n",
      "replace_vowels minnie mouse ➞ m?nn?? m??s?\n",
      "Enter the string: shakespeare\n",
      "Enter the replacement char: *\n",
      "replace_vowels shakespeare ➞ sh*k*sp**r*\n"
     ]
    }
   ],
   "source": [
    "def replace_vowels():\n",
    "    string = input('Enter the string: ')\n",
    "    replacement_word = input('Enter the replacement char: ')\n",
    "    new_string=''\n",
    "    for i in string:\n",
    "        if i in ['a','e','i','o','u']:\n",
    "            new_string = new_string + i.replace(i,replacement_word)\n",
    "        else:\n",
    "            new_string = new_string + i\n",
    "    print(f'replace_vowels {(string)} ➞ {new_string}')\n",
    "        \n",
    "\n",
    "for x in range(3):\n",
    "    replace_vowels()"
   ]
  },
  {
   "cell_type": "markdown",
   "id": "6d720b70",
   "metadata": {},
   "source": [
    "### 4.Write a function that calculates the factorial of a number recursively ?\n",
    "Examples:<br>\n",
    "`factorial(5) ➞ 120`<br>\n",
    "`factorial(3) ➞ 6`<br>\n",
    "`factorial(1) ➞ 1`<br>\n",
    "`factorial(0) ➞ 1`<br>"
   ]
  },
  {
   "cell_type": "code",
   "execution_count": 31,
   "id": "e06d9b39",
   "metadata": {},
   "outputs": [
    {
     "name": "stdout",
     "output_type": "stream",
     "text": [
      "factorial(5) ➞ 120\n"
     ]
    }
   ],
   "source": [
    "def factorial(number):\n",
    "    if number == 0:\n",
    "        return 1\n",
    "    else:\n",
    "        return (number) * factorial(number-1)\n",
    "    \n",
    "print(f'factorial(5) ➞ {factorial(5)}')"
   ]
  },
  {
   "cell_type": "markdown",
   "id": "2d3498d7",
   "metadata": {},
   "source": [
    "### 5.Hamming distance is the number of characters that differ between two strings ?\n",
    "To illustrate:<br>\n",
    "String1: \"abcbba\"<br>\n",
    "String2: \"abcbda\"<br>\n",
    "Hamming Distance: 1 - \"b\" vs. \"d\" is the only difference.<br>\n",
    "Create a function that computes the hamming distance between two strings.<br>\n",
    "Examples:<br>\n",
    "`hamming_distance(\"abcde\", \"bcdef\") ➞ 5`<br>\n",
    "`hamming_distance(\"abcde\", \"abcde\") ➞ 0`<br>\n",
    "`hamming_distance(\"strong\", \"strung\") ➞ 1`<br>"
   ]
  },
  {
   "cell_type": "code",
   "execution_count": 49,
   "id": "fb9d13ff",
   "metadata": {},
   "outputs": [
    {
     "name": "stdout",
     "output_type": "stream",
     "text": [
      "Enter the string 1 : abcde\n",
      "Enter the string 2 : bcdef\n",
      "hamming_distance('abcde', 'bcdef') ➞ 5\n",
      "Enter the string 1 : abcde\n",
      "Enter the string 2 : abcde\n",
      "hamming_distance('abcde', 'abcde') ➞ 0\n",
      "Enter the string 1 : strong\n",
      "Enter the string 2 : strung\n",
      "hamming_distance('strong', 'strung') ➞ 1\n"
     ]
    }
   ],
   "source": [
    "def hammingDistance():\n",
    "    string_1 = input('Enter the string 1 : ')\n",
    "    string_2 = input('Enter the string 2 : ')\n",
    "    count = 0\n",
    "    if len(string_1) == len(string_2):\n",
    "        for i in range(len(string_1)):\n",
    "            if string_1[i] != string_2[i]:\n",
    "                count= count+1\n",
    "        print(f'hamming_distance{(string_1,string_2)} ➞ {count}')\n",
    "    \n",
    "for  i in range(3):\n",
    "    hammingDistance()"
   ]
  }
 ],
 "metadata": {
  "kernelspec": {
   "display_name": "Python 3 (ipykernel)",
   "language": "python",
   "name": "python3"
  },
  "language_info": {
   "codemirror_mode": {
    "name": "ipython",
    "version": 3
   },
   "file_extension": ".py",
   "mimetype": "text/x-python",
   "name": "python",
   "nbconvert_exporter": "python",
   "pygments_lexer": "ipython3",
   "version": "3.9.7"
  }
 },
 "nbformat": 4,
 "nbformat_minor": 5
}
