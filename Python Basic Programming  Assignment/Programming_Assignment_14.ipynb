{
 "cells": [
  {
   "cell_type": "markdown",
   "id": "13e6b973",
   "metadata": {},
   "source": [
    "### 1.Define a class with a generator which can iterate the numbers, which are divisible by 7, between a given range 0 and n.?"
   ]
  },
  {
   "cell_type": "code",
   "execution_count": 2,
   "id": "c462c484",
   "metadata": {},
   "outputs": [
    {
     "name": "stdout",
     "output_type": "stream",
     "text": [
      "0 7 14 21 28 35 42 49 56 63 70 77 84 91 98 105 112 119 126 133 140 147 154 161 168 175 182 189 196 203 210 217 224 231 238 245 252 259 266 273 280 287 294 301 308 315 322 329 336 343 350 "
     ]
    }
   ],
   "source": [
    "class dev_generator:\n",
    "    def __init__(self,name):\n",
    "        self.name = name\n",
    "    def getNumber(self):\n",
    "        for ele in range(0,self.name+1):\n",
    "            if ele%7==0:\n",
    "                yield(ele)\n",
    "                \n",
    "output = dev_generator(350)\n",
    "for i in output.getNumber():\n",
    "    print(i,end=' ')"
   ]
  },
  {
   "cell_type": "markdown",
   "id": "9d1f575d",
   "metadata": {},
   "source": [
    "### 2. Write a program to compute the frequency of the words from the input. The output should output after sorting the key alphanumerically.\n",
    "\n",
    "Suppose the following input is supplied to the program:\n",
    "\n",
    "New to Python or choosing between Python 2 and Python 3? Read Python 2 or Python 3.\n",
    "Then, the output should be:\n",
    "\n",
    "`2:2 3.:1 3?:1 New:1 Python:5 Read:1 and:1 between:1 choosing:1 or:2 to:1`"
   ]
  },
  {
   "cell_type": "code",
   "execution_count": 2,
   "id": "595225f6",
   "metadata": {},
   "outputs": [
    {
     "name": "stdout",
     "output_type": "stream",
     "text": [
      "Enter the string: New to Python or choosing between Python 2 and Python 3? Read Python 2 or Python 3\n",
      "2:2 3:1 3?:1 New:1 Python:5 Read:1 and:1 between:1 choosing:1 or:2 to:1 "
     ]
    }
   ],
   "source": [
    "def checkFrequency():\n",
    "    string_in = input('Enter the string: ')\n",
    "    frequency = {}\n",
    "    for ele in string_in.split(\" \"):\n",
    "        if (frequency.get(ele) == None):\n",
    "            frequency[ele] = 1\n",
    "        else:\n",
    "            frequency[ele] +=1\n",
    "    for ele in sorted(frequency):\n",
    "        print(f'{ele}:{frequency[ele]}', end=\" \")\n",
    "        \n",
    "    \n",
    "checkFrequency()"
   ]
  },
  {
   "cell_type": "markdown",
   "id": "6a57406e",
   "metadata": {},
   "source": [
    "### 4.Please write a program to generate all sentences where subject is in [\"I\", \"You\"] and verb is in [\"Play\", \"Love\"] and the object is in [\"Hockey\",\"Football\"] ?"
   ]
  },
  {
   "cell_type": "code",
   "execution_count": 6,
   "id": "4dae760c",
   "metadata": {},
   "outputs": [
    {
     "name": "stdout",
     "output_type": "stream",
     "text": [
      "I Play Hockey\n",
      "I Play Football\n",
      "I Love Hockey\n",
      "I Love Football\n",
      "You Play Hockey\n",
      "You Play Football\n",
      "You Love Hockey\n",
      "You Love Football\n"
     ]
    }
   ],
   "source": [
    "def createSentence():\n",
    "    subject = [\"I\",\"You\"]\n",
    "    verb =  [\"Play\",\"Love\"]\n",
    "    object_in = [\"Hockey\",\"Football\"]\n",
    "    \n",
    "    for ele in subject:\n",
    "        for i in verb:\n",
    "            for j in object_in:\n",
    "                print(f'{ele} {i} {j}')\n",
    "\n",
    "\n",
    "createSentence()             \n",
    "                "
   ]
  },
  {
   "cell_type": "markdown",
   "id": "d5d21afd",
   "metadata": {},
   "source": [
    "Question 5:\n",
    "Please write a program to compress and decompress the string \"hello world!hello world!hello world!hello world!\"."
   ]
  },
  {
   "cell_type": "code",
   "execution_count": 12,
   "id": "6531a9b3",
   "metadata": {},
   "outputs": [
    {
     "name": "stdout",
     "output_type": "stream",
     "text": [
      "Enter the string: hello world!hello world!hello world!hello world!\n",
      "compress string is : hel2o world!hel2o world!hel2o world!hel2o world!\n",
      "Enter the string: hel2o world!hel2o world!hel2o world!hel2o world!\n",
      "decompress string is : hello world!hello world!hello world!hello world!\n"
     ]
    }
   ],
   "source": [
    "def compress():\n",
    "    string_in = input('Enter the string: ')\n",
    "    count = 1\n",
    "    out_string = string_in[0]\n",
    "    for ele in range(len(string_in)-1):\n",
    "        if string_in[ele] ==string_in[ele+1]:\n",
    "            count += 1\n",
    "            out_string += str(count)\n",
    "        else:\n",
    "            out_string += string_in[ele+1]\n",
    "            count = 1\n",
    "\n",
    "    print(f'compress string is : {out_string}')\n",
    "            \n",
    "compress()\n",
    "\n",
    "\n",
    "def decompress():\n",
    "    string_in = input('Enter the string: ')\n",
    "    out_string = ''\n",
    "    for ele in range(len(string_in)):\n",
    "        if string_in[ele].isdigit():\n",
    "            out_string += string_in[ele-1]\n",
    "        else:\n",
    "            out_string += string_in[ele]\n",
    "    print(f'decompress string is : {out_string}')\n",
    "    \n",
    "decompress()\n",
    "    "
   ]
  },
  {
   "cell_type": "markdown",
   "id": "208b5818",
   "metadata": {},
   "source": [
    "### Please write a binary search function which searches an item in a sorted list. The function should return the index of element to be searched in the list."
   ]
  },
  {
   "cell_type": "code",
   "execution_count": 24,
   "id": "e6441987",
   "metadata": {},
   "outputs": [
    {
     "name": "stdout",
     "output_type": "stream",
     "text": [
      "Element index is 7\n",
      "Element is not in list\n"
     ]
    }
   ],
   "source": [
    "sorted_list = [1,2,3,4,5,6,7,8,9,10]\n",
    "def findIndex(sorted_list,num):\n",
    "    if num in sorted_list:\n",
    "        print(f'Element index is {sorted(sorted_list).index(num)}')\n",
    "    else:\n",
    "        print('Element is not in list')\n",
    "    \n",
    "findIndex(sorted_list,8)\n",
    "findIndex(sorted_list,100)"
   ]
  },
  {
   "cell_type": "code",
   "execution_count": null,
   "id": "6cadc236",
   "metadata": {},
   "outputs": [],
   "source": []
  }
 ],
 "metadata": {
  "kernelspec": {
   "display_name": "Python 3 (ipykernel)",
   "language": "python",
   "name": "python3"
  },
  "language_info": {
   "codemirror_mode": {
    "name": "ipython",
    "version": 3
   },
   "file_extension": ".py",
   "mimetype": "text/x-python",
   "name": "python",
   "nbconvert_exporter": "python",
   "pygments_lexer": "ipython3",
   "version": "3.9.7"
  }
 },
 "nbformat": 4,
 "nbformat_minor": 5
}
